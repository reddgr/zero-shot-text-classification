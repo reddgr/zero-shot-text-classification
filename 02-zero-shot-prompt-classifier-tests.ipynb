{
 "cells": [
  {
   "cell_type": "markdown",
   "metadata": {},
   "source": [
    "### 0. Notebook setup"
   ]
  },
  {
   "cell_type": "code",
   "execution_count": 1,
   "metadata": {},
   "outputs": [
    {
     "name": "stdout",
     "output_type": "stream",
     "text": [
      "WARNING:tensorflow:From c:\\Users\\david\\anaconda3\\Lib\\site-packages\\tf_keras\\src\\losses.py:2976: The name tf.losses.sparse_softmax_cross_entropy is deprecated. Please use tf.compat.v1.losses.sparse_softmax_cross_entropy instead.\n",
      "\n",
      "Python version: 3.11.5 | packaged by Anaconda, Inc. | (main, Sep 11 2023, 13:26:23) [MSC v.1916 64 bit (AMD64)]\n",
      "PyTorch version: 2.2.2\n",
      "Transformers version: 4.44.2\n",
      "CUDA device: NVIDIA GeForce RTX 4060 Laptop GPU\n",
      "CUDA Version: 12.1\n",
      "FlashAttention available: True\n",
      "Retrieved token(s) from .env file\n",
      "Using HuggingFace token: hf_M*****************************IASJ\n",
      "Using HuggingFace write token: hf_u*****************************Xipx\n",
      "Using OpenAI token: sk-p************************************************************************************************************************************************************_5sA\n"
     ]
    }
   ],
   "source": [
    "COLAB = False # Set this to True if you want to install the libraries and clone the repository in Colab\n",
    "USE_DOTENV = True # Set this to False if you don't have a .env file for storing environment variables\n",
    "\n",
    "if COLAB:\n",
    "    USE_DOTENV = False\n",
    "    dotenv_path = None\n",
    "    from google.colab import userdata\n",
    "    colab_secrets = {'HF_TOKEN': userdata.get('HF_TOKEN'), 'HF_TOKEN_WRITE': userdata.get('HF_TOKEN_WRITE')}\n",
    "    !pip install datasets\n",
    "    !git clone https://github.com/reddgr/zero-shot-text-classification\n",
    "    import os\n",
    "    os.system(\"mv zero-shot-text-classification zs_tc\")\n",
    "\n",
    "if USE_DOTENV: \n",
    "    COLAB=False\n",
    "    dotenv_path = \"../../../../../apis/.env\"\n",
    "    colab_secrets = None\n",
    "\n",
    "from transformers import pipeline, AutoModelForSequenceClassification, TFAutoModelForSequenceClassification, AutoTokenizer,  AdamW, Trainer, TrainingArguments\n",
    "import tensorflow as tf\n",
    "import random\n",
    "from datasets import load_dataset, Dataset\n",
    "import pandas as pd\n",
    "from sklearn.metrics import ConfusionMatrixDisplay\n",
    "import sys\n",
    "import os\n",
    "import torch\n",
    "import textwrap\n",
    "from IPython.display import clear_output\n",
    "import matplotlib.pyplot as plt\n",
    "\n",
    "if COLAB:\n",
    "    import sys\n",
    "    sys.path.append(\"./zs_tc/src\")\n",
    "    import env_options, nli_labeling_widget as labeling_widget, text_classification_functions as tcf, lmsys_dataset_handler as lmsys\n",
    "else:\n",
    "    import sys\n",
    "    sys.path.append(\"./src\")\n",
    "    import text_classification_functions as tcf\n",
    "    import env_options\n",
    "    import lmsys_dataset_handler as lmsys\n",
    "    import nli_finetuning_utils\n",
    "\n",
    "hf_token, hf_token_write, openai_api_key = env_options.check_env(colab=COLAB, use_dotenv=USE_DOTENV, \n",
    "                                                 dotenv_path=dotenv_path, colab_secrets=colab_secrets)"
   ]
  },
  {
   "cell_type": "code",
   "execution_count": 3,
   "metadata": {},
   "outputs": [
    {
     "data": {
      "text/plain": [
       "<module 'text_classification_functions' from 'c:\\\\Users\\\\david\\\\Documents\\\\git\\\\zero-shot-text-classification\\\\./src\\\\text_classification_functions.py'>"
      ]
     },
     "execution_count": 3,
     "metadata": {},
     "output_type": "execute_result"
    }
   ],
   "source": [
    "### DEBUG ###\n",
    "import importlib\n",
    "importlib.reload(nli_finetuning_utils)\n",
    "importlib.reload(tcf)\n",
    "### DEBUG ###"
   ]
  },
  {
   "cell_type": "markdown",
   "metadata": {},
   "source": [
    "### Loading the dataset's Test split"
   ]
  },
  {
   "cell_type": "code",
   "execution_count": 2,
   "metadata": {},
   "outputs": [
    {
     "name": "stdout",
     "output_type": "stream",
     "text": [
      "Labels:  {'contradiction': 0, 'neutral': 1, 'entailment': 2}\n"
     ]
    },
    {
     "data": {
      "text/html": [
       "<div>\n",
       "<style scoped>\n",
       "    .dataframe tbody tr th:only-of-type {\n",
       "        vertical-align: middle;\n",
       "    }\n",
       "\n",
       "    .dataframe tbody tr th {\n",
       "        vertical-align: top;\n",
       "    }\n",
       "\n",
       "    .dataframe thead th {\n",
       "        text-align: right;\n",
       "    }\n",
       "</style>\n",
       "<table border=\"1\" class=\"dataframe\">\n",
       "  <thead>\n",
       "    <tr style=\"text-align: right;\">\n",
       "      <th></th>\n",
       "      <th>text</th>\n",
       "      <th>category</th>\n",
       "      <th>label</th>\n",
       "    </tr>\n",
       "  </thead>\n",
       "  <tbody>\n",
       "    <tr>\n",
       "      <th>5</th>\n",
       "      <td>I wanna have a conversation in german to practice</td>\n",
       "      <td>language</td>\n",
       "      <td>2</td>\n",
       "    </tr>\n",
       "    <tr>\n",
       "      <th>7</th>\n",
       "      <td>What you think about Belarus?</td>\n",
       "      <td>general knowledge</td>\n",
       "      <td>2</td>\n",
       "    </tr>\n",
       "    <tr>\n",
       "      <th>9</th>\n",
       "      <td>Help me rephrase this tagline by giving me a f...</td>\n",
       "      <td>language</td>\n",
       "      <td>2</td>\n",
       "    </tr>\n",
       "  </tbody>\n",
       "</table>\n",
       "</div>"
      ],
      "text/plain": [
       "                                                text           category  label\n",
       "5  I wanna have a conversation in german to practice           language      2\n",
       "7                      What you think about Belarus?  general knowledge      2\n",
       "9  Help me rephrase this tagline by giving me a f...           language      2"
      ]
     },
     "metadata": {},
     "output_type": "display_data"
    },
    {
     "name": "stdout",
     "output_type": "stream",
     "text": [
      "... 213 records ...\n"
     ]
    },
    {
     "data": {
      "text/html": [
       "<div>\n",
       "<style scoped>\n",
       "    .dataframe tbody tr th:only-of-type {\n",
       "        vertical-align: middle;\n",
       "    }\n",
       "\n",
       "    .dataframe tbody tr th {\n",
       "        vertical-align: top;\n",
       "    }\n",
       "\n",
       "    .dataframe thead th {\n",
       "        text-align: right;\n",
       "    }\n",
       "</style>\n",
       "<table border=\"1\" class=\"dataframe\">\n",
       "  <thead>\n",
       "    <tr style=\"text-align: right;\">\n",
       "      <th></th>\n",
       "      <th>text</th>\n",
       "      <th>category</th>\n",
       "      <th>label</th>\n",
       "    </tr>\n",
       "  </thead>\n",
       "  <tbody>\n",
       "    <tr>\n",
       "      <th>405</th>\n",
       "      <td>Write some html code that will play a graphics...</td>\n",
       "      <td>coding</td>\n",
       "      <td>2</td>\n",
       "    </tr>\n",
       "    <tr>\n",
       "      <th>409</th>\n",
       "      <td>How do you think, what can be the potential ne...</td>\n",
       "      <td>ai</td>\n",
       "      <td>2</td>\n",
       "    </tr>\n",
       "    <tr>\n",
       "      <th>411</th>\n",
       "      <td>When I was 6 my sister was half my age. Now I’...</td>\n",
       "      <td>riddle</td>\n",
       "      <td>2</td>\n",
       "    </tr>\n",
       "  </tbody>\n",
       "</table>\n",
       "</div>"
      ],
      "text/plain": [
       "                                                  text category  label\n",
       "405  Write some html code that will play a graphics...   coding      2\n",
       "409  How do you think, what can be the potential ne...       ai      2\n",
       "411  When I was 6 my sister was half my age. Now I’...   riddle      2"
      ]
     },
     "metadata": {},
     "output_type": "display_data"
    }
   ],
   "source": [
    "test_dataset_dict = load_dataset(\"reddgr/nli-chatbot-prompt-categorization\")\n",
    "test_dataset = test_dataset_dict[\"test\"]  # Access the \"test\" split\n",
    "test_dataset_df = test_dataset_dict[\"test\"].to_pandas()\n",
    "print(\"Labels: \",test_dataset_dict[\"test\"].features[\"label\"]._str2int)\n",
    "entailments_test_dataset_df = test_dataset_df[test_dataset_df['label'] == 2]\n",
    "display(entailments_test_dataset_df.head(3))\n",
    "print(f'... {len(entailments_test_dataset_df)} records ...')\n",
    "display(entailments_test_dataset_df.tail(3))"
   ]
  },
  {
   "cell_type": "markdown",
   "metadata": {},
   "source": [
    "## Top-10 Categories excluding 'general knowledge'"
   ]
  },
  {
   "cell_type": "code",
   "execution_count": 21,
   "metadata": {},
   "outputs": [
    {
     "name": "stdout",
     "output_type": "stream",
     "text": [
      "Top 12 prompt categories:\n",
      "category\n",
      "coding               39\n",
      "technology           25\n",
      "language             20\n",
      "writing              20\n",
      "science              19\n",
      "business             18\n",
      "popular culture      11\n",
      "role play            10\n",
      "general knowledge     9\n",
      "riddle                8\n",
      "finance               5\n",
      "ai                    5\n",
      "Name: count, dtype: int64\n",
      "\n",
      "10 categories (175 records for testing):\n",
      "['coding', 'technology', 'language', 'writing', 'science', 'business', 'popular culture', 'role play', 'riddle', 'finance']\n"
     ]
    },
    {
     "name": "stderr",
     "output_type": "stream",
     "text": [
      "c:\\Users\\david\\anaconda3\\Lib\\site-packages\\transformers\\tokenization_utils_base.py:1601: FutureWarning: `clean_up_tokenization_spaces` was not set. It will be set to `True` by default. This behavior will be depracted in transformers v4.45, and will be then set to `False` by default. For more details check this issue: https://github.com/huggingface/transformers/issues/31884\n",
      "  warnings.warn(\n"
     ]
    }
   ],
   "source": [
    "category_counts = entailments_test_dataset_df['category'].value_counts()\n",
    "top_n_display = 12\n",
    "print(f'Top {top_n_display} prompt categories:\\n{category_counts.head(top_n_display)}')\n",
    "category_counts = category_counts[category_counts.index != 'general knowledge']\n",
    "top_n_categories = 10\n",
    "top_categories = category_counts.head(top_n_categories).index\n",
    "test_entailments_df = entailments_test_dataset_df[entailments_test_dataset_df['category'].isin(top_categories)]\n",
    "print(f'\\n{top_n_categories} categories ({len(test_entailments_df)} records for testing):')\n",
    "print(top_categories.to_list())\n",
    "\n",
    "nli_model_path = 'reddgr/zero-shot-prompt-classifier-bart-ft'\n",
    "zs_classifier = tcf.ZeroShotClassifier(nli_model_path, nli_model_path, top_categories)\n",
    "\n",
    "base_model_path = 'facebook/bart-large-mnli'\n",
    "base_classifier = tcf.ZeroShotClassifier(base_model_path, base_model_path, top_categories)"
   ]
  },
  {
   "cell_type": "code",
   "execution_count": 22,
   "metadata": {},
   "outputs": [
    {
     "name": "stderr",
     "output_type": "stream",
     "text": [
      "Zero-shot classification with facebook/bart-large-mnli: 100%|██████████| 175/175 [00:35<00:00,  4.95it/s]\n",
      "Zero-shot classification with reddgr/zero-shot-prompt-classifier-bart-ft: 100%|██████████| 175/175 [00:40<00:00,  4.27it/s]\n"
     ]
    }
   ],
   "source": [
    "base_model_path = 'facebook/bart-large-mnli'\n",
    "base_classifier = tcf.ZeroShotClassifier(base_model_path, base_model_path, top_categories)\n",
    "nli_model_path = 'reddgr/zero-shot-prompt-classifier-bart-ft'\n",
    "zs_classifier = tcf.ZeroShotClassifier(nli_model_path, nli_model_path, top_categories)\n",
    "base_test_metrics = base_classifier.test_zs_predictions(test_entailments_df, plot_conf_matrix=False)\n",
    "zs_test_metrics = zs_classifier.test_zs_predictions(test_entailments_df, plot_conf_matrix=False)"
   ]
  },
  {
   "cell_type": "code",
   "execution_count": 5,
   "metadata": {},
   "outputs": [
    {
     "data": {
      "image/png": "[encoded data removed]",
      "text/plain": [
       "<Figure size 1200x600 with 2 Axes>"
      ]
     },
     "metadata": {},
     "output_type": "display_data"
    }
   ],
   "source": [
    "metrics_comp = tcf.MetricsComparison(base_classifier, zs_classifier, base_test_metrics, zs_test_metrics)\n",
    "metrics_comp.compare_conf_matrices()"
   ]
  },
  {
   "cell_type": "code",
   "execution_count": 23,
   "metadata": {},
   "outputs": [
    {
     "name": "stdout",
     "output_type": "stream",
     "text": [
      "\n",
      "Accuracy by category:\n",
      "coding               0.795\n",
      "technology           0.920\n",
      "language             0.850\n",
      "writing              0.600\n",
      "science              0.895\n",
      "business             0.556\n",
      "popular culture      0.636\n",
      "role play            0.700\n",
      "riddle               0.750\n",
      "finance              1.000\n",
      "\n",
      "Results sample:\n"
     ]
    },
    {
     "data": {
      "text/html": [
       "<div>\n",
       "<style scoped>\n",
       "    .dataframe tbody tr th:only-of-type {\n",
       "        vertical-align: middle;\n",
       "    }\n",
       "\n",
       "    .dataframe tbody tr th {\n",
       "        vertical-align: top;\n",
       "    }\n",
       "\n",
       "    .dataframe thead th {\n",
       "        text-align: right;\n",
       "    }\n",
       "</style>\n",
       "<table border=\"1\" class=\"dataframe\">\n",
       "  <thead>\n",
       "    <tr style=\"text-align: right;\">\n",
       "      <th></th>\n",
       "      <th>text</th>\n",
       "      <th>category</th>\n",
       "      <th>label</th>\n",
       "      <th>predicted_class</th>\n",
       "    </tr>\n",
       "  </thead>\n",
       "  <tbody>\n",
       "    <tr>\n",
       "      <th>162</th>\n",
       "      <td>Extract attributes from the product title: NAM...</td>\n",
       "      <td>business</td>\n",
       "      <td>2</td>\n",
       "      <td>coding</td>\n",
       "    </tr>\n",
       "    <tr>\n",
       "      <th>94</th>\n",
       "      <td>Can any of those changes or similar examples b...</td>\n",
       "      <td>business</td>\n",
       "      <td>2</td>\n",
       "      <td>business</td>\n",
       "    </tr>\n",
       "    <tr>\n",
       "      <th>41</th>\n",
       "      <td>what is 10+10</td>\n",
       "      <td>riddle</td>\n",
       "      <td>2</td>\n",
       "      <td>riddle</td>\n",
       "    </tr>\n",
       "    <tr>\n",
       "      <th>196</th>\n",
       "      <td>Hello, please identify yourself</td>\n",
       "      <td>role play</td>\n",
       "      <td>2</td>\n",
       "      <td>language</td>\n",
       "    </tr>\n",
       "    <tr>\n",
       "      <th>308</th>\n",
       "      <td>Give me some grammar advice on this: “ Earlier...</td>\n",
       "      <td>language</td>\n",
       "      <td>2</td>\n",
       "      <td>language</td>\n",
       "    </tr>\n",
       "  </tbody>\n",
       "</table>\n",
       "</div>"
      ],
      "text/plain": [
       "                                                  text   category  label  \\\n",
       "162  Extract attributes from the product title: NAM...   business      2   \n",
       "94   Can any of those changes or similar examples b...   business      2   \n",
       "41                                       what is 10+10     riddle      2   \n",
       "196                    Hello, please identify yourself  role play      2   \n",
       "308  Give me some grammar advice on this: “ Earlier...   language      2   \n",
       "\n",
       "    predicted_class  \n",
       "162          coding  \n",
       "94         business  \n",
       "41           riddle  \n",
       "196        language  \n",
       "308        language  "
      ]
     },
     "metadata": {},
     "output_type": "display_data"
    }
   ],
   "source": [
    "zs_test_metrics.get('detailed_results')\n",
    "\n",
    "results_df = pd.DataFrame(zs_test_metrics['detailed_results'])\n",
    "results_by_category = results_df.groupby(['category', 'predicted_class']).size().unstack(fill_value=0)\n",
    "accuracy_by_category = results_df.groupby('category').apply(lambda x: (x['category'] == x['predicted_class']).mean())\n",
    "\n",
    "print(\"\\nAccuracy by category:\")\n",
    "for category in top_categories:\n",
    "    print(f\"{category:20} {accuracy_by_category[category]:.3f}\")\n",
    "\n",
    "print(\"\\nResults sample:\")\n",
    "display(results_df.sample(5))"
   ]
  },
  {
   "cell_type": "code",
   "execution_count": 24,
   "metadata": {},
   "outputs": [],
   "source": [
    "from datetime import datetime\n",
    "today_date = datetime.now().strftime('%Y%m%d')\n",
    "results_df.to_csv(f'csv/10c-test-ft-{today_date}.csv', index=False)"
   ]
  },
  {
   "cell_type": "markdown",
   "metadata": {},
   "source": [
    "Riddle example:"
   ]
  },
  {
   "cell_type": "code",
   "execution_count": 7,
   "metadata": {},
   "outputs": [
    {
     "name": "stdout",
     "output_type": "stream",
     "text": [
      "\n",
      "Classification with base model:\n",
      "sequence: I'm twice the age you were when i was your age. How old are we?\n",
      "labels: ['riddle', 'language', 'role play', 'writing', 'popular culture', 'science', 'business', 'technology', 'finance', 'coding']\n",
      "scores: [0.515, 0.119, 0.075, 0.073, 0.052, 0.04, 0.039, 0.036, 0.026, 0.026]\n",
      "\n",
      "Classification with fine-tuned model:\n",
      "sequence: I'm twice the age you were when i was your age. How old are we?\n",
      "labels: ['riddle', 'role play', 'science', 'business', 'popular culture', 'writing', 'language', 'finance', 'technology', 'coding']\n",
      "scores: [0.24, 0.19, 0.101, 0.091, 0.089, 0.067, 0.066, 0.059, 0.055, 0.041]\n"
     ]
    }
   ],
   "source": [
    "# text_sample = test_entailments_df.sample(1).text.values[0]\n",
    "text_sample = \"I'm twice the age you were when i was your age. How old are we?\"\n",
    "ft_result = zs_classifier.classify_text(text_sample, multi_label=False)\n",
    "base_result = base_classifier.classify_text(text_sample, multi_label=False)\n",
    "clear_output(wait=True)\n",
    "\n",
    "print(\"\\nClassification with base model:\")\n",
    "for key, value in base_result.items():\n",
    "    print(f\"{key}: {value}\")\n",
    "\n",
    "print(\"\\nClassification with fine-tuned model:\")\n",
    "for key, value in ft_result.items():\n",
    "    print(f\"{key}: {value}\")"
   ]
  },
  {
   "cell_type": "markdown",
   "metadata": {},
   "source": [
    "## 6 TTCB Grouped Categories"
   ]
  },
  {
   "cell_type": "code",
   "execution_count": 9,
   "metadata": {},
   "outputs": [
    {
     "name": "stdout",
     "output_type": "stream",
     "text": [
      "Top 10 prompt categories:\n",
      "category\n",
      "language and writing         40\n",
      "coding                       39\n",
      "technology and ai            30\n",
      "business and finance         23\n",
      "science                      19\n",
      "culture and entertainment    15\n",
      "role play                    10\n",
      "general knowledge             9\n",
      "riddle                        8\n",
      "philosophy                    4\n",
      "Name: count, dtype: int64\n",
      "166 records for testing 6 category groups\n",
      "['language and writing', 'coding', 'technology and ai', 'business and finance', 'science', 'culture and entertainment']\n"
     ]
    }
   ],
   "source": [
    "test_df_grouped = entailments_test_dataset_df.copy()\n",
    "# test_df_grouped = test_entailments_df.copy()\n",
    "test_df_grouped.loc[test_df_grouped['category'] == 'business', 'category'] = 'business and finance'\n",
    "test_df_grouped.loc[test_df_grouped['category'] == 'finance', 'category'] = 'business and finance'\n",
    "test_df_grouped.loc[test_df_grouped['category'] == 'language', 'category'] = 'language and writing'\n",
    "test_df_grouped.loc[test_df_grouped['category'] == 'writing', 'category'] = 'language and writing'\n",
    "test_df_grouped.loc[test_df_grouped['category'] == 'popular culture', 'category'] = 'culture and entertainment'\n",
    "test_df_grouped.loc[test_df_grouped['category'] == 'music', 'category'] = 'culture and entertainment'\n",
    "test_df_grouped.loc[test_df_grouped['category'] == 'entertainment', 'category'] = 'culture and entertainment'\n",
    "test_df_grouped.loc[test_df_grouped['category'] == 'technology', 'category'] = 'technology and ai'\n",
    "test_df_grouped.loc[test_df_grouped['category'] == 'ai', 'category'] = 'technology and ai'\n",
    "\n",
    "category_counts = test_df_grouped['category'].value_counts()\n",
    "top_n_display = 10\n",
    "print(f'Top {top_n_display} prompt categories:\\n{category_counts.head(top_n_display)}')\n",
    "category_counts = category_counts[category_counts.index != 'general knowledge']\n",
    "top_n_categories = 6\n",
    "top_categories = category_counts.head(top_n_categories).index\n",
    "test_entailments_grouped = test_df_grouped[test_df_grouped['category'].isin(top_categories)]\n",
    "print(f'{len(test_entailments_grouped)} records for testing {top_n_categories} category groups')\n",
    "print(top_categories.to_list())"
   ]
  },
  {
   "cell_type": "markdown",
   "metadata": {},
   "source": [
    "Classifying and comparing confusion matrices:"
   ]
  },
  {
   "cell_type": "code",
   "execution_count": 10,
   "metadata": {},
   "outputs": [
    {
     "name": "stderr",
     "output_type": "stream",
     "text": [
      "c:\\Users\\david\\anaconda3\\Lib\\site-packages\\transformers\\tokenization_utils_base.py:1601: FutureWarning: `clean_up_tokenization_spaces` was not set. It will be set to `True` by default. This behavior will be depracted in transformers v4.45, and will be then set to `False` by default. For more details check this issue: https://github.com/huggingface/transformers/issues/31884\n",
      "  warnings.warn(\n",
      "Zero-shot classification with facebook/bart-large-mnli: 100%|██████████| 166/166 [00:18<00:00,  9.09it/s]\n",
      "Zero-shot classification with reddgr/zero-shot-prompt-classifier-bart-ft: 100%|██████████| 166/166 [00:18<00:00,  8.92it/s]\n"
     ]
    },
    {
     "data": {
      "image/png": "[encoded data removed]",
      "text/plain": [
       "<Figure size 1200x600 with 2 Axes>"
      ]
     },
     "metadata": {},
     "output_type": "display_data"
    }
   ],
   "source": [
    "base_classifier = tcf.ZeroShotClassifier('facebook/bart-large-mnli', base_model_path, top_categories)\n",
    "zs_classifier = tcf.ZeroShotClassifier('reddgr/zero-shot-prompt-classifier-bart-ft', nli_model_path, top_categories)\n",
    "base_test_metrics = base_classifier.test_zs_predictions(test_entailments_grouped, plot_conf_matrix=False)\n",
    "zs_test_metrics = zs_classifier.test_zs_predictions(test_entailments_grouped, plot_conf_matrix=False)\n",
    "\n",
    "metrics_comp = tcf.MetricsComparison(base_classifier, zs_classifier, base_test_metrics, zs_test_metrics)\n",
    "metrics_comp.compare_conf_matrices()"
   ]
  },
  {
   "cell_type": "markdown",
   "metadata": {},
   "source": [
    "## Top-12 categories excluding \"general knowledge\""
   ]
  },
  {
   "cell_type": "markdown",
   "metadata": {},
   "source": [
    "Instantiating the zero-shot classifiers:"
   ]
  },
  {
   "cell_type": "code",
   "execution_count": 11,
   "metadata": {},
   "outputs": [
    {
     "name": "stdout",
     "output_type": "stream",
     "text": [
      "Top 15 prompt categories:\n",
      "category\n",
      "coding               39\n",
      "technology           25\n",
      "language             20\n",
      "writing              20\n",
      "science              19\n",
      "business             18\n",
      "popular culture      11\n",
      "role play            10\n",
      "general knowledge     9\n",
      "riddle                8\n",
      "finance               5\n",
      "ai                    5\n",
      "philosophy            4\n",
      "images                3\n",
      "mathematics           3\n",
      "Name: count, dtype: int64\n",
      "184 records for testing 12 categories\n",
      "Dataset({\n",
      "    features: ['text', 'category', 'label', '__index_level_0__'],\n",
      "    num_rows: 184\n",
      "})\n",
      "['coding', 'technology', 'language', 'writing', 'science', 'business', 'popular culture', 'role play', 'riddle', 'finance', 'ai', 'philosophy']\n"
     ]
    }
   ],
   "source": [
    "category_counts = entailments_test_dataset_df['category'].value_counts()\n",
    "top_n_display = 15\n",
    "print(f'Top {top_n_display} prompt categories:\\n{category_counts.head(top_n_display)}')\n",
    "category_counts = category_counts[category_counts.index != 'general knowledge']\n",
    "top_n_categories = 12\n",
    "top_categories = category_counts.head(top_n_categories).index\n",
    "test_entailments_df = entailments_test_dataset_df[entailments_test_dataset_df['category'].isin(top_categories)]\n",
    "print(f'{len(test_entailments_df)} records for testing {top_n_categories} categories')\n",
    "test_entailments_dataset = Dataset.from_pandas(test_entailments_df)\n",
    "print(test_entailments_dataset)\n",
    "print(top_categories.to_list())"
   ]
  },
  {
   "cell_type": "code",
   "execution_count": 12,
   "metadata": {},
   "outputs": [
    {
     "name": "stderr",
     "output_type": "stream",
     "text": [
      "c:\\Users\\david\\anaconda3\\Lib\\site-packages\\transformers\\tokenization_utils_base.py:1601: FutureWarning: `clean_up_tokenization_spaces` was not set. It will be set to `True` by default. This behavior will be depracted in transformers v4.45, and will be then set to `False` by default. For more details check this issue: https://github.com/huggingface/transformers/issues/31884\n",
      "  warnings.warn(\n"
     ]
    }
   ],
   "source": [
    "nli_model_path = 'reddgr/zero-shot-prompt-classifier-bart-ft'\n",
    "zs_classifier = tcf.ZeroShotClassifier(nli_model_path, nli_model_path, top_categories)\n",
    "\n",
    "base_model_path = 'facebook/bart-large-mnli'\n",
    "base_classifier = tcf.ZeroShotClassifier(base_model_path, base_model_path, top_categories)"
   ]
  },
  {
   "cell_type": "markdown",
   "metadata": {},
   "source": [
    "Zero-shot classification examples:"
   ]
  },
  {
   "cell_type": "code",
   "execution_count": 13,
   "metadata": {},
   "outputs": [
    {
     "name": "stdout",
     "output_type": "stream",
     "text": [
      "Classification with fine-tuned model:\n",
      "sequence: hemophilia clickbait headlines\n",
      "labels: ['popular culture', 'ai', 'language', 'writing', 'business', 'science', 'role play', 'riddle', 'philosophy', 'technology', 'finance', 'coding']\n",
      "scores: [0.532, 0.238, 0.068, 0.039, 0.029, 0.025, 0.015, 0.014, 0.012, 0.011, 0.009, 0.006]\n",
      "Classification with base model:\n",
      "sequence: hemophilia clickbait headlines\n",
      "labels: ['popular culture', 'ai', 'language', 'writing', 'riddle', 'business', 'role play', 'philosophy', 'science', 'coding', 'technology', 'finance']\n",
      "scores: [0.519, 0.224, 0.155, 0.043, 0.013, 0.01, 0.007, 0.007, 0.006, 0.006, 0.005, 0.005]\n"
     ]
    }
   ],
   "source": [
    "text_sample = test_entailments_df.sample(1).text.values[0]\n",
    "# text_sample = \"I'm twice the age you were when i was your age. How old are we?\"\n",
    "ft_result = zs_classifier.classify_text(text_sample, multi_label=False)\n",
    "base_result = base_classifier.classify_text(text_sample, multi_label=False)\n",
    "clear_output(wait=True)\n",
    "print(\"Classification with fine-tuned model:\")\n",
    "for key, value in ft_result.items():\n",
    "    print(f\"{key}: {value}\")\n",
    "\n",
    "print(\"Classification with base model:\")\n",
    "for key, value in base_result.items():\n",
    "    print(f\"{key}: {value}\")"
   ]
  },
  {
   "cell_type": "code",
   "execution_count": 14,
   "metadata": {},
   "outputs": [
    {
     "name": "stderr",
     "output_type": "stream",
     "text": [
      "100%|██████████| 10/10 [00:02<00:00,  3.97it/s]"
     ]
    },
    {
     "name": "stdout",
     "output_type": "stream",
     "text": [
      "Sample accuracy: 80.0%\n"
     ]
    },
    {
     "name": "stderr",
     "output_type": "stream",
     "text": [
      "\n"
     ]
    },
    {
     "data": {
      "text/html": [
       "<div>\n",
       "<style scoped>\n",
       "    .dataframe tbody tr th:only-of-type {\n",
       "        vertical-align: middle;\n",
       "    }\n",
       "\n",
       "    .dataframe tbody tr th {\n",
       "        vertical-align: top;\n",
       "    }\n",
       "\n",
       "    .dataframe thead th {\n",
       "        text-align: right;\n",
       "    }\n",
       "</style>\n",
       "<table border=\"1\" class=\"dataframe\">\n",
       "  <thead>\n",
       "    <tr style=\"text-align: right;\">\n",
       "      <th></th>\n",
       "      <th>text</th>\n",
       "      <th>category</th>\n",
       "      <th>label</th>\n",
       "      <th>top_class_zs</th>\n",
       "      <th>top_score_zs</th>\n",
       "      <th>full_results_zs</th>\n",
       "      <th>is_correct</th>\n",
       "    </tr>\n",
       "  </thead>\n",
       "  <tbody>\n",
       "    <tr>\n",
       "      <th>382</th>\n",
       "      <td>I need to make some very quick cash and I don'...</td>\n",
       "      <td>business</td>\n",
       "      <td>2</td>\n",
       "      <td>finance</td>\n",
       "      <td>0.561</td>\n",
       "      <td>[(finance, 0.561), (business, 0.22), (ai, 0.07...</td>\n",
       "      <td>0</td>\n",
       "    </tr>\n",
       "    <tr>\n",
       "      <th>279</th>\n",
       "      <td>write more that start with the title of the ga...</td>\n",
       "      <td>writing</td>\n",
       "      <td>2</td>\n",
       "      <td>writing</td>\n",
       "      <td>0.550</td>\n",
       "      <td>[(writing, 0.55), (language, 0.161), (coding, ...</td>\n",
       "      <td>1</td>\n",
       "    </tr>\n",
       "    <tr>\n",
       "      <th>362</th>\n",
       "      <td>what is the most efficient Thermoelectric gene...</td>\n",
       "      <td>technology</td>\n",
       "      <td>2</td>\n",
       "      <td>technology</td>\n",
       "      <td>0.498</td>\n",
       "      <td>[(technology, 0.498), (science, 0.322), (ai, 0...</td>\n",
       "      <td>1</td>\n",
       "    </tr>\n",
       "    <tr>\n",
       "      <th>115</th>\n",
       "      <td>Who are the suppliers of Anti-Malarial medicin...</td>\n",
       "      <td>business</td>\n",
       "      <td>2</td>\n",
       "      <td>business</td>\n",
       "      <td>0.373</td>\n",
       "      <td>[(business, 0.373), (ai, 0.163), (riddle, 0.11...</td>\n",
       "      <td>1</td>\n",
       "    </tr>\n",
       "    <tr>\n",
       "      <th>177</th>\n",
       "      <td>I'm twice the age you were when i was your age...</td>\n",
       "      <td>riddle</td>\n",
       "      <td>2</td>\n",
       "      <td>ai</td>\n",
       "      <td>0.260</td>\n",
       "      <td>[(ai, 0.26), (riddle, 0.16), (role play, 0.127...</td>\n",
       "      <td>0</td>\n",
       "    </tr>\n",
       "    <tr>\n",
       "      <th>240</th>\n",
       "      <td>Any thoughts on criticizing 'the power of veto...</td>\n",
       "      <td>science</td>\n",
       "      <td>2</td>\n",
       "      <td>science</td>\n",
       "      <td>0.285</td>\n",
       "      <td>[(science, 0.285), (philosophy, 0.228), (ai, 0...</td>\n",
       "      <td>1</td>\n",
       "    </tr>\n",
       "    <tr>\n",
       "      <th>402</th>\n",
       "      <td>You're my mum NAME_1, 40 years old. From Ports...</td>\n",
       "      <td>role play</td>\n",
       "      <td>2</td>\n",
       "      <td>role play</td>\n",
       "      <td>0.325</td>\n",
       "      <td>[(role play, 0.325), (ai, 0.177), (riddle, 0.0...</td>\n",
       "      <td>1</td>\n",
       "    </tr>\n",
       "    <tr>\n",
       "      <th>376</th>\n",
       "      <td>can chief of staff and director human resource...</td>\n",
       "      <td>business</td>\n",
       "      <td>2</td>\n",
       "      <td>business</td>\n",
       "      <td>0.475</td>\n",
       "      <td>[(business, 0.475), (language, 0.107), (riddle...</td>\n",
       "      <td>1</td>\n",
       "    </tr>\n",
       "    <tr>\n",
       "      <th>17</th>\n",
       "      <td>What is the yen carry trade?</td>\n",
       "      <td>finance</td>\n",
       "      <td>2</td>\n",
       "      <td>finance</td>\n",
       "      <td>0.529</td>\n",
       "      <td>[(finance, 0.529), (business, 0.294), (riddle,...</td>\n",
       "      <td>1</td>\n",
       "    </tr>\n",
       "    <tr>\n",
       "      <th>237</th>\n",
       "      <td>Assume a YouTuber has a channel focues on show...</td>\n",
       "      <td>technology</td>\n",
       "      <td>2</td>\n",
       "      <td>technology</td>\n",
       "      <td>0.296</td>\n",
       "      <td>[(technology, 0.296), (role play, 0.243), (cod...</td>\n",
       "      <td>1</td>\n",
       "    </tr>\n",
       "  </tbody>\n",
       "</table>\n",
       "</div>"
      ],
      "text/plain": [
       "                                                  text    category  label  \\\n",
       "382  I need to make some very quick cash and I don'...    business      2   \n",
       "279  write more that start with the title of the ga...     writing      2   \n",
       "362  what is the most efficient Thermoelectric gene...  technology      2   \n",
       "115  Who are the suppliers of Anti-Malarial medicin...    business      2   \n",
       "177  I'm twice the age you were when i was your age...      riddle      2   \n",
       "240  Any thoughts on criticizing 'the power of veto...     science      2   \n",
       "402  You're my mum NAME_1, 40 years old. From Ports...   role play      2   \n",
       "376  can chief of staff and director human resource...    business      2   \n",
       "17                        What is the yen carry trade?     finance      2   \n",
       "237  Assume a YouTuber has a channel focues on show...  technology      2   \n",
       "\n",
       "    top_class_zs  top_score_zs  \\\n",
       "382      finance         0.561   \n",
       "279      writing         0.550   \n",
       "362   technology         0.498   \n",
       "115     business         0.373   \n",
       "177           ai         0.260   \n",
       "240      science         0.285   \n",
       "402    role play         0.325   \n",
       "376     business         0.475   \n",
       "17       finance         0.529   \n",
       "237   technology         0.296   \n",
       "\n",
       "                                       full_results_zs  is_correct  \n",
       "382  [(finance, 0.561), (business, 0.22), (ai, 0.07...           0  \n",
       "279  [(writing, 0.55), (language, 0.161), (coding, ...           1  \n",
       "362  [(technology, 0.498), (science, 0.322), (ai, 0...           1  \n",
       "115  [(business, 0.373), (ai, 0.163), (riddle, 0.11...           1  \n",
       "177  [(ai, 0.26), (riddle, 0.16), (role play, 0.127...           0  \n",
       "240  [(science, 0.285), (philosophy, 0.228), (ai, 0...           1  \n",
       "402  [(role play, 0.325), (ai, 0.177), (riddle, 0.0...           1  \n",
       "376  [(business, 0.475), (language, 0.107), (riddle...           1  \n",
       "17   [(finance, 0.529), (business, 0.294), (riddle,...           1  \n",
       "237  [(technology, 0.296), (role play, 0.243), (cod...           1  "
      ]
     },
     "metadata": {},
     "output_type": "display_data"
    }
   ],
   "source": [
    "df_testing = test_entailments_df.sample(10).copy()\n",
    "df_testing_zs = zs_classifier.classify_dataframe_column(df_testing, target_column = 'text', feature_suffix = 'zs')\n",
    "# Add a column to indicate if the prediction was correct\n",
    "df_testing_zs['is_correct'] = (\n",
    "    df_testing_zs['category'] == df_testing_zs['top_class_zs']\n",
    ").astype(int)\n",
    "# Calculate accuracy of the sample:\n",
    "sample_accuracy = df_testing_zs['is_correct'].mean() * 100\n",
    "print(f\"Sample accuracy: {sample_accuracy:.1f}%\")\n",
    "display(df_testing_zs)"
   ]
  },
  {
   "cell_type": "code",
   "execution_count": 15,
   "metadata": {},
   "outputs": [
    {
     "name": "stderr",
     "output_type": "stream",
     "text": [
      "Zero-shot classification with facebook/bart-large-mnli: 100%|██████████| 184/184 [00:41<00:00,  4.48it/s]\n",
      "Zero-shot classification with reddgr/zero-shot-prompt-classifier-bart-ft: 100%|██████████| 184/184 [00:41<00:00,  4.45it/s]\n"
     ]
    },
    {
     "data": {
      "image/png": "[encoded data removed]",
      "text/plain": [
       "<Figure size 1200x600 with 2 Axes>"
      ]
     },
     "metadata": {},
     "output_type": "display_data"
    }
   ],
   "source": [
    "base_test_metrics = base_classifier.test_zs_predictions(test_entailments_df, plot_conf_matrix=False)\n",
    "zs_test_metrics = zs_classifier.test_zs_predictions(test_entailments_df, plot_conf_matrix=False)\n",
    "\n",
    "metrics_comp = tcf.MetricsComparison(base_classifier, zs_classifier, base_test_metrics, zs_test_metrics)\n",
    "metrics_comp.compare_conf_matrices()"
   ]
  },
  {
   "cell_type": "markdown",
   "metadata": {},
   "source": [
    "Sample results:"
   ]
  },
  {
   "cell_type": "code",
   "execution_count": 16,
   "metadata": {},
   "outputs": [
    {
     "data": {
      "text/html": [
       "<div>\n",
       "<style scoped>\n",
       "    .dataframe tbody tr th:only-of-type {\n",
       "        vertical-align: middle;\n",
       "    }\n",
       "\n",
       "    .dataframe tbody tr th {\n",
       "        vertical-align: top;\n",
       "    }\n",
       "\n",
       "    .dataframe thead th {\n",
       "        text-align: right;\n",
       "    }\n",
       "</style>\n",
       "<table border=\"1\" class=\"dataframe\">\n",
       "  <thead>\n",
       "    <tr style=\"text-align: right;\">\n",
       "      <th></th>\n",
       "      <th>text</th>\n",
       "      <th>category</th>\n",
       "      <th>label</th>\n",
       "      <th>predicted_class</th>\n",
       "    </tr>\n",
       "  </thead>\n",
       "  <tbody>\n",
       "    <tr>\n",
       "      <th>225</th>\n",
       "      <td>tell a short funny story about how cats like t...</td>\n",
       "      <td>writing</td>\n",
       "      <td>2</td>\n",
       "      <td>popular culture</td>\n",
       "    </tr>\n",
       "    <tr>\n",
       "      <th>36</th>\n",
       "      <td>what is an equivalent term for \"day to day con...</td>\n",
       "      <td>language</td>\n",
       "      <td>2</td>\n",
       "      <td>language</td>\n",
       "    </tr>\n",
       "    <tr>\n",
       "      <th>217</th>\n",
       "      <td>do worms start eating a body from inside</td>\n",
       "      <td>science</td>\n",
       "      <td>2</td>\n",
       "      <td>science</td>\n",
       "    </tr>\n",
       "    <tr>\n",
       "      <th>96</th>\n",
       "      <td>A retail establishment accepts either the Amer...</td>\n",
       "      <td>riddle</td>\n",
       "      <td>2</td>\n",
       "      <td>business</td>\n",
       "    </tr>\n",
       "    <tr>\n",
       "      <th>194</th>\n",
       "      <td>peripheral neuropathy causes</td>\n",
       "      <td>science</td>\n",
       "      <td>2</td>\n",
       "      <td>science</td>\n",
       "    </tr>\n",
       "  </tbody>\n",
       "</table>\n",
       "</div>"
      ],
      "text/plain": [
       "                                                  text  category  label  \\\n",
       "225  tell a short funny story about how cats like t...   writing      2   \n",
       "36   what is an equivalent term for \"day to day con...  language      2   \n",
       "217           do worms start eating a body from inside   science      2   \n",
       "96   A retail establishment accepts either the Amer...    riddle      2   \n",
       "194                       peripheral neuropathy causes   science      2   \n",
       "\n",
       "     predicted_class  \n",
       "225  popular culture  \n",
       "36          language  \n",
       "217          science  \n",
       "96          business  \n",
       "194          science  "
      ]
     },
     "metadata": {},
     "output_type": "display_data"
    }
   ],
   "source": [
    "zs_test_metrics.get('detailed_results')\n",
    "results_df = pd.DataFrame(zs_test_metrics['detailed_results'])\n",
    "display(results_df.sample(5))\n",
    "results_df.to_csv('csv/12c-test.csv', index=False)"
   ]
  },
  {
   "cell_type": "markdown",
   "metadata": {},
   "source": [
    "Accuracy by labeled category:"
   ]
  },
  {
   "cell_type": "code",
   "execution_count": 17,
   "metadata": {},
   "outputs": [
    {
     "name": "stdout",
     "output_type": "stream",
     "text": [
      "\n",
      "Accuracy by category:\n",
      "coding               0.795\n",
      "technology           0.880\n",
      "language             0.800\n",
      "writing              0.550\n",
      "science              0.895\n",
      "business             0.556\n",
      "popular culture      0.636\n",
      "role play            0.500\n",
      "riddle               0.500\n",
      "finance              1.000\n",
      "ai                   0.200\n",
      "philosophy           0.250\n",
      "\n",
      "Results sample:\n"
     ]
    },
    {
     "data": {
      "text/html": [
       "<div>\n",
       "<style scoped>\n",
       "    .dataframe tbody tr th:only-of-type {\n",
       "        vertical-align: middle;\n",
       "    }\n",
       "\n",
       "    .dataframe tbody tr th {\n",
       "        vertical-align: top;\n",
       "    }\n",
       "\n",
       "    .dataframe thead th {\n",
       "        text-align: right;\n",
       "    }\n",
       "</style>\n",
       "<table border=\"1\" class=\"dataframe\">\n",
       "  <thead>\n",
       "    <tr style=\"text-align: right;\">\n",
       "      <th></th>\n",
       "      <th>text</th>\n",
       "      <th>category</th>\n",
       "      <th>label</th>\n",
       "      <th>predicted_class</th>\n",
       "    </tr>\n",
       "  </thead>\n",
       "  <tbody>\n",
       "    <tr>\n",
       "      <th>30</th>\n",
       "      <td>Can you sumarize the the answer in a couple of...</td>\n",
       "      <td>writing</td>\n",
       "      <td>2</td>\n",
       "      <td>language</td>\n",
       "    </tr>\n",
       "    <tr>\n",
       "      <th>93</th>\n",
       "      <td>Explain what networking lessons we can learn f...</td>\n",
       "      <td>popular culture</td>\n",
       "      <td>2</td>\n",
       "      <td>popular culture</td>\n",
       "    </tr>\n",
       "    <tr>\n",
       "      <th>244</th>\n",
       "      <td>After the Libet experiment, did EEG and fMRI e...</td>\n",
       "      <td>science</td>\n",
       "      <td>2</td>\n",
       "      <td>science</td>\n",
       "    </tr>\n",
       "    <tr>\n",
       "      <th>23</th>\n",
       "      <td>Can you make this link have color #353535 only...</td>\n",
       "      <td>coding</td>\n",
       "      <td>2</td>\n",
       "      <td>coding</td>\n",
       "    </tr>\n",
       "    <tr>\n",
       "      <th>319</th>\n",
       "      <td>what is the function in R base library to do a...</td>\n",
       "      <td>coding</td>\n",
       "      <td>2</td>\n",
       "      <td>coding</td>\n",
       "    </tr>\n",
       "  </tbody>\n",
       "</table>\n",
       "</div>"
      ],
      "text/plain": [
       "                                                  text         category  \\\n",
       "30   Can you sumarize the the answer in a couple of...          writing   \n",
       "93   Explain what networking lessons we can learn f...  popular culture   \n",
       "244  After the Libet experiment, did EEG and fMRI e...          science   \n",
       "23   Can you make this link have color #353535 only...           coding   \n",
       "319  what is the function in R base library to do a...           coding   \n",
       "\n",
       "     label  predicted_class  \n",
       "30       2         language  \n",
       "93       2  popular culture  \n",
       "244      2          science  \n",
       "23       2           coding  \n",
       "319      2           coding  "
      ]
     },
     "metadata": {},
     "output_type": "display_data"
    }
   ],
   "source": [
    "zs_test_metrics.get('detailed_results')\n",
    "results_df = pd.DataFrame(zs_test_metrics['detailed_results'])\n",
    "results_by_category = results_df.groupby(['category', 'predicted_class']).size().unstack(fill_value=0)\n",
    "accuracy_by_category = results_df.groupby('category').apply(lambda x: (x['category'] == x['predicted_class']).mean())\n",
    "\n",
    "print(\"\\nAccuracy by category:\")\n",
    "for category in top_categories:\n",
    "    print(f\"{category:20} {accuracy_by_category[category]:.3f}\")\n",
    "\n",
    "print(\"\\nResults sample:\")\n",
    "display(results_df.sample(5))"
   ]
  },
  {
   "cell_type": "markdown",
   "metadata": {},
   "source": [
    "______________________________"
   ]
  },
  {
   "cell_type": "markdown",
   "metadata": {},
   "source": [
    "### Dataset edits"
   ]
  },
  {
   "cell_type": "code",
   "execution_count": 42,
   "metadata": {},
   "outputs": [
    {
     "name": "stdout",
     "output_type": "stream",
     "text": [
      "Labels:  {'contradiction': 0, 'neutral': 1, 'entailment': 2}\n",
      "Entailments examples:\n",
      "410 records. Sample:\n"
     ]
    },
    {
     "data": {
      "text/html": [
       "<div>\n",
       "<style scoped>\n",
       "    .dataframe tbody tr th:only-of-type {\n",
       "        vertical-align: middle;\n",
       "    }\n",
       "\n",
       "    .dataframe tbody tr th {\n",
       "        vertical-align: top;\n",
       "    }\n",
       "\n",
       "    .dataframe thead th {\n",
       "        text-align: right;\n",
       "    }\n",
       "</style>\n",
       "<table border=\"1\" class=\"dataframe\">\n",
       "  <thead>\n",
       "    <tr style=\"text-align: right;\">\n",
       "      <th></th>\n",
       "      <th>text</th>\n",
       "      <th>category</th>\n",
       "      <th>label</th>\n",
       "    </tr>\n",
       "  </thead>\n",
       "  <tbody>\n",
       "    <tr>\n",
       "      <th>298</th>\n",
       "      <td>from datasets import load_dataset\\ndataset = l...</td>\n",
       "      <td>coding</td>\n",
       "      <td>2</td>\n",
       "    </tr>\n",
       "    <tr>\n",
       "      <th>172</th>\n",
       "      <td>what is the average height of a human?</td>\n",
       "      <td>science</td>\n",
       "      <td>2</td>\n",
       "    </tr>\n",
       "    <tr>\n",
       "      <th>310</th>\n",
       "      <td>can we ensure that the histogram shows a tick ...</td>\n",
       "      <td>coding</td>\n",
       "      <td>2</td>\n",
       "    </tr>\n",
       "  </tbody>\n",
       "</table>\n",
       "</div>"
      ],
      "text/plain": [
       "                                                  text category  label\n",
       "298  from datasets import load_dataset\\ndataset = l...   coding      2\n",
       "172             what is the average height of a human?  science      2\n",
       "310  can we ensure that the histogram shows a tick ...   coding      2"
      ]
     },
     "metadata": {},
     "output_type": "display_data"
    }
   ],
   "source": [
    "test_dataset_dict = load_dataset(\"reddgr/nli-chatbot-prompt-categorization\")\n",
    "test_dataset = test_dataset_dict[\"test\"]  # Access the \"test\" split\n",
    "test_dataset_df = test_dataset_dict[\"test\"].to_pandas()\n",
    "print(\"Labels: \",test_dataset_dict[\"test\"].features[\"label\"]._str2int)\n",
    "print(\"Entailments examples:\")\n",
    "print(f\"{len(test_dataset_df)} records. Sample:\")\n",
    "display(test_dataset_df[test_dataset_df['label']==2].sample(3))"
   ]
  },
  {
   "cell_type": "code",
   "execution_count": 43,
   "metadata": {},
   "outputs": [
    {
     "data": {
      "text/html": [
       "<div>\n",
       "<style scoped>\n",
       "    .dataframe tbody tr th:only-of-type {\n",
       "        vertical-align: middle;\n",
       "    }\n",
       "\n",
       "    .dataframe tbody tr th {\n",
       "        vertical-align: top;\n",
       "    }\n",
       "\n",
       "    .dataframe thead th {\n",
       "        text-align: right;\n",
       "    }\n",
       "</style>\n",
       "<table border=\"1\" class=\"dataframe\">\n",
       "  <thead>\n",
       "    <tr style=\"text-align: right;\">\n",
       "      <th></th>\n",
       "      <th>text</th>\n",
       "      <th>category</th>\n",
       "      <th>label</th>\n",
       "    </tr>\n",
       "  </thead>\n",
       "  <tbody>\n",
       "    <tr>\n",
       "      <th>13</th>\n",
       "      <td>can you complete the sentence or make it more ...</td>\n",
       "      <td>language</td>\n",
       "      <td>2</td>\n",
       "    </tr>\n",
       "  </tbody>\n",
       "</table>\n",
       "</div>"
      ],
      "text/plain": [
       "                                                 text  category  label\n",
       "13  can you complete the sentence or make it more ...  language      2"
      ]
     },
     "execution_count": 43,
     "metadata": {},
     "output_type": "execute_result"
    }
   ],
   "source": [
    "text = \"complete the sentence or make it more impactful without making it too long\"\n",
    "test_dataset_df[test_dataset_df['text'].str.contains(text)]"
   ]
  },
  {
   "cell_type": "code",
   "execution_count": 46,
   "metadata": {},
   "outputs": [
    {
     "data": {
      "text/html": [
       "<div>\n",
       "<style scoped>\n",
       "    .dataframe tbody tr th:only-of-type {\n",
       "        vertical-align: middle;\n",
       "    }\n",
       "\n",
       "    .dataframe tbody tr th {\n",
       "        vertical-align: top;\n",
       "    }\n",
       "\n",
       "    .dataframe thead th {\n",
       "        text-align: right;\n",
       "    }\n",
       "</style>\n",
       "<table border=\"1\" class=\"dataframe\">\n",
       "  <thead>\n",
       "    <tr style=\"text-align: right;\">\n",
       "      <th></th>\n",
       "      <th>text</th>\n",
       "      <th>category</th>\n",
       "      <th>label</th>\n",
       "    </tr>\n",
       "  </thead>\n",
       "  <tbody>\n",
       "    <tr>\n",
       "      <th>29</th>\n",
       "      <td>please, only fix critical grammar issues in th...</td>\n",
       "      <td>writing</td>\n",
       "      <td>2</td>\n",
       "    </tr>\n",
       "  </tbody>\n",
       "</table>\n",
       "</div>"
      ],
      "text/plain": [
       "                                                 text category  label\n",
       "29  please, only fix critical grammar issues in th...  writing      2"
      ]
     },
     "execution_count": 46,
     "metadata": {},
     "output_type": "execute_result"
    }
   ],
   "source": [
    "text =\"please, only fix critical grammar issues in the text\"\n",
    "test_dataset_df[test_dataset_df['text'].str.contains(text)]"
   ]
  },
  {
   "cell_type": "code",
   "execution_count": 36,
   "metadata": {},
   "outputs": [],
   "source": [
    "text =\"please, only fix critical grammar issues in the text\"\n",
    "test_dataset_df.loc[(test_dataset_df['text'].str.contains(text)) \n",
    "                    & (test_dataset_df['label'] == 2), 'category'] = 'writing'"
   ]
  },
  {
   "cell_type": "code",
   "execution_count": 47,
   "metadata": {},
   "outputs": [
    {
     "data": {
      "text/html": [
       "<div>\n",
       "<style scoped>\n",
       "    .dataframe tbody tr th:only-of-type {\n",
       "        vertical-align: middle;\n",
       "    }\n",
       "\n",
       "    .dataframe tbody tr th {\n",
       "        vertical-align: top;\n",
       "    }\n",
       "\n",
       "    .dataframe thead th {\n",
       "        text-align: right;\n",
       "    }\n",
       "</style>\n",
       "<table border=\"1\" class=\"dataframe\">\n",
       "  <thead>\n",
       "    <tr style=\"text-align: right;\">\n",
       "      <th></th>\n",
       "      <th>text</th>\n",
       "      <th>category</th>\n",
       "      <th>label</th>\n",
       "    </tr>\n",
       "  </thead>\n",
       "  <tbody>\n",
       "    <tr>\n",
       "      <th>44</th>\n",
       "      <td>hello give me some information about large lan...</td>\n",
       "      <td>language</td>\n",
       "      <td>0</td>\n",
       "    </tr>\n",
       "    <tr>\n",
       "      <th>45</th>\n",
       "      <td>hello give me some information about large lan...</td>\n",
       "      <td>technology</td>\n",
       "      <td>2</td>\n",
       "    </tr>\n",
       "  </tbody>\n",
       "</table>\n",
       "</div>"
      ],
      "text/plain": [
       "                                                 text    category  label\n",
       "44  hello give me some information about large lan...    language      0\n",
       "45  hello give me some information about large lan...  technology      2"
      ]
     },
     "execution_count": 47,
     "metadata": {},
     "output_type": "execute_result"
    }
   ],
   "source": [
    "text = \"give me some information about large language models\"\n",
    "test_dataset_df[test_dataset_df['text'].str.contains(text)]"
   ]
  },
  {
   "cell_type": "code",
   "execution_count": 48,
   "metadata": {},
   "outputs": [],
   "source": [
    "text = \"give me some information about large language models\"\n",
    "test_dataset_df.loc[(test_dataset_df['text'].str.contains(text)) \n",
    "                    & (test_dataset_df['label'] == 2), 'category'] = 'ai'"
   ]
  },
  {
   "cell_type": "code",
   "execution_count": 49,
   "metadata": {},
   "outputs": [],
   "source": [
    "####"
   ]
  },
  {
   "cell_type": "code",
   "execution_count": 4,
   "metadata": {},
   "outputs": [],
   "source": [
    "text = \"following pieces of context to answer the question at the end\"\n",
    "test_dataset_df = test_dataset_df.drop(test_dataset_df[(test_dataset_df['text'].str.contains(text)) \n",
    "                                                       & (test_dataset_df['label'] == 2)].index)\n",
    "\n",
    "test = \"because the author also created stories about thinkers from other eras\"\n",
    "test_dataset_df = test_dataset_df.drop(test_dataset_df[(test_dataset_df['text'].str.contains(text)) \n",
    "                                                       & (test_dataset_df['label'] == 2)].index)\n",
    "\n",
    "text = \"create an Email alert in snowflake when ever\"\n",
    "test_dataset_df = test_dataset_df.drop(test_dataset_df[(test_dataset_df['text'].str.contains(text)) \n",
    "                                                       & (test_dataset_df['label'] == 2)].index)\n",
    "\n",
    "text = \"assist me in composing system architecture\"\n",
    "test_dataset_df = test_dataset_df.drop(test_dataset_df[(test_dataset_df['text'].str.contains(text)) \n",
    "                                                       & (test_dataset_df['label'] == 2)].index)\n",
    "\n",
    "text = \"tell a joke about\"\n",
    "test_dataset_df = test_dataset_df.drop(test_dataset_df[(test_dataset_df['text'].str.contains(text)) \n",
    "                                                       & (test_dataset_df['label'] == 2)].index)\n",
    "\n",
    "text = \"threatening DMCA takedown notice\"\n",
    "test_dataset_df = test_dataset_df.drop(test_dataset_df[(test_dataset_df['text'].str.contains(text)) \n",
    "                                                       & (test_dataset_df['label'] == 2)].index)"
   ]
  },
  {
   "cell_type": "code",
   "execution_count": 6,
   "metadata": {},
   "outputs": [],
   "source": [
    "text = \"sumarize the the answer in a couple\"\n",
    "test_dataset_df.loc[(test_dataset_df['text'].str.contains(text)) \n",
    "                    & (test_dataset_df['label'] == 2), 'category'] = 'writing'\n",
    "\n",
    "text = \"correct the spelling for the following text\"\n",
    "test_dataset_df.loc[(test_dataset_df['text'].str.contains(text)) \n",
    "                    & (test_dataset_df['label'] == 2), 'category'] = 'writing'\n",
    "\n",
    "text = \"Write below sentence in an alternative way\"\n",
    "test_dataset_df.loc[(test_dataset_df['text'].str.contains(text)) \n",
    "                    & (test_dataset_df['label'] == 2), 'category'] = 'writing'\n",
    "\n",
    "text = \"work is a system of inputs that generates wealth for both the business and\"\n",
    "test_dataset_df = test_dataset_df.drop(test_dataset_df[(test_dataset_df['text'].str.contains(text)) \n",
    "                                                       & (test_dataset_df['label'] == 2)].index)\n",
    "\n",
    "text = \"but make the responses more succinct and try skipping\"\n",
    "test_dataset_df = test_dataset_df.drop(test_dataset_df[(test_dataset_df['text'].str.contains(text)) \n",
    "                                                       & (test_dataset_df['label'] == 2)].index)\n",
    "\n",
    "\n",
    "text = \"discuss your idea to avoid wasting time\"\n",
    "test_dataset_df = test_dataset_df.drop(test_dataset_df[(test_dataset_df['text'].str.contains(text)) \n",
    "                                                       & (test_dataset_df['label'] == 2)].index)\n",
    "\n",
    "\n",
    "text = \"This comment was written with ChatGPT assistance\"\n",
    "test_dataset_df = test_dataset_df.drop(test_dataset_df[(test_dataset_df['text'].str.contains(text)) \n",
    "                                                       & (test_dataset_df['label'] == 2)].index)"
   ]
  },
  {
   "cell_type": "code",
   "execution_count": 50,
   "metadata": {},
   "outputs": [
    {
     "name": "stdout",
     "output_type": "stream",
     "text": [
      "Dataset({\n",
      "    features: ['text', 'category', 'label'],\n",
      "    num_rows: 410\n",
      "})\n"
     ]
    }
   ],
   "source": [
    "from datasets import Dataset, ClassLabel\n",
    "test_dataset_new = Dataset.from_pandas(test_dataset_df, preserve_index=False)\n",
    "print(test_dataset_new)"
   ]
  },
  {
   "cell_type": "code",
   "execution_count": 51,
   "metadata": {},
   "outputs": [
    {
     "data": {
      "application/vnd.jupyter.widget-view+json": {
       "model_id": "0032432b43f54c258fa0fae2b388afd1",
       "version_major": 2,
       "version_minor": 0
      },
      "text/plain": [
       "Map:   0%|          | 0/410 [00:00<?, ? examples/s]"
      ]
     },
     "metadata": {},
     "output_type": "display_data"
    },
    {
     "data": {
      "application/vnd.jupyter.widget-view+json": {
       "model_id": "4f3bc1d4771741798f67f4a9459da6f8",
       "version_major": 2,
       "version_minor": 0
      },
      "text/plain": [
       "Casting the dataset:   0%|          | 0/410 [00:00<?, ? examples/s]"
      ]
     },
     "metadata": {},
     "output_type": "display_data"
    }
   ],
   "source": [
    "label_map = {0: \"contradiction\",1: \"neutral\",2: \"entailment\"}\n",
    "class_label = ClassLabel(names=[label_map[i] for i in sorted(label_map.keys())])\n",
    "# Map the 'label' feature to the new ClassLabel feature\n",
    "def map_labels(example):\n",
    "    example['label'] = class_label.str2int(label_map[example['label']])\n",
    "    return example\n",
    "test_dataset_new = test_dataset_new.map(map_labels)\n",
    "test_dataset_new = test_dataset_new.cast_column(\"label\", class_label)"
   ]
  },
  {
   "cell_type": "code",
   "execution_count": 52,
   "metadata": {},
   "outputs": [
    {
     "data": {
      "application/vnd.jupyter.widget-view+json": {
       "model_id": "877f53b61956411bbb979c48ba3530ab",
       "version_major": 2,
       "version_minor": 0
      },
      "text/plain": [
       "Uploading the dataset shards:   0%|          | 0/1 [00:00<?, ?it/s]"
      ]
     },
     "metadata": {},
     "output_type": "display_data"
    },
    {
     "data": {
      "application/vnd.jupyter.widget-view+json": {
       "model_id": "2d2c5f69363c4846a3a69bc6c7fe9a2e",
       "version_major": 2,
       "version_minor": 0
      },
      "text/plain": [
       "Creating parquet from Arrow format:   0%|          | 0/1 [00:00<?, ?ba/s]"
      ]
     },
     "metadata": {},
     "output_type": "display_data"
    },
    {
     "data": {
      "application/vnd.jupyter.widget-view+json": {
       "model_id": "1e1b045652f24bb29a8c2bec9fa4e704",
       "version_major": 2,
       "version_minor": 0
      },
      "text/plain": [
       "README.md:   0%|          | 0.00/1.30k [00:00<?, ?B/s]"
      ]
     },
     "metadata": {},
     "output_type": "display_data"
    },
    {
     "data": {
      "text/plain": [
       "CommitInfo(commit_url='https://huggingface.co/datasets/reddgr/nli-chatbot-prompt-categorization/commit/786d7026571383020a507afa43f5c2798c618792', commit_message='Upload dataset', commit_description='', oid='786d7026571383020a507afa43f5c2798c618792', pr_url=None, pr_revision=None, pr_num=None)"
      ]
     },
     "execution_count": 52,
     "metadata": {},
     "output_type": "execute_result"
    }
   ],
   "source": [
    "test_dataset_new.push_to_hub(\"reddgr/nli-chatbot-prompt-categorization\", token=hf_token_write, split='test')"
   ]
  },
  {
   "cell_type": "code",
   "execution_count": 53,
   "metadata": {},
   "outputs": [
    {
     "data": {
      "application/vnd.jupyter.widget-view+json": {
       "model_id": "05aa9e4c2b6b480dbf7fb19d793f07dd",
       "version_major": 2,
       "version_minor": 0
      },
      "text/plain": [
       "Downloading readme:   0%|          | 0.00/1.30k [00:00<?, ?B/s]"
      ]
     },
     "metadata": {},
     "output_type": "display_data"
    },
    {
     "data": {
      "application/vnd.jupyter.widget-view+json": {
       "model_id": "24bc880055ae4c2d9d358a4581112b69",
       "version_major": 2,
       "version_minor": 0
      },
      "text/plain": [
       "Downloading data:   0%|          | 0.00/105k [00:00<?, ?B/s]"
      ]
     },
     "metadata": {},
     "output_type": "display_data"
    },
    {
     "data": {
      "application/vnd.jupyter.widget-view+json": {
       "model_id": "ffa18853e08e4c26937dbea53da09b98",
       "version_major": 2,
       "version_minor": 0
      },
      "text/plain": [
       "Downloading data:   0%|          | 0.00/22.4k [00:00<?, ?B/s]"
      ]
     },
     "metadata": {},
     "output_type": "display_data"
    },
    {
     "data": {
      "application/vnd.jupyter.widget-view+json": {
       "model_id": "ab826c09199c4afaa6a45f129028f720",
       "version_major": 2,
       "version_minor": 0
      },
      "text/plain": [
       "Generating train split:   0%|          | 0/2157 [00:00<?, ? examples/s]"
      ]
     },
     "metadata": {},
     "output_type": "display_data"
    },
    {
     "data": {
      "application/vnd.jupyter.widget-view+json": {
       "model_id": "0b3b8ec343254259945eaddd21f1477b",
       "version_major": 2,
       "version_minor": 0
      },
      "text/plain": [
       "Generating test split:   0%|          | 0/410 [00:00<?, ? examples/s]"
      ]
     },
     "metadata": {},
     "output_type": "display_data"
    },
    {
     "name": "stdout",
     "output_type": "stream",
     "text": [
      "records in Train split: 2157\n",
      "...\n"
     ]
    },
    {
     "data": {
      "text/html": [
       "<div>\n",
       "<style scoped>\n",
       "    .dataframe tbody tr th:only-of-type {\n",
       "        vertical-align: middle;\n",
       "    }\n",
       "\n",
       "    .dataframe tbody tr th {\n",
       "        vertical-align: top;\n",
       "    }\n",
       "\n",
       "    .dataframe thead th {\n",
       "        text-align: right;\n",
       "    }\n",
       "</style>\n",
       "<table border=\"1\" class=\"dataframe\">\n",
       "  <thead>\n",
       "    <tr style=\"text-align: right;\">\n",
       "      <th></th>\n",
       "      <th>text</th>\n",
       "      <th>category</th>\n",
       "      <th>label</th>\n",
       "    </tr>\n",
       "  </thead>\n",
       "  <tbody>\n",
       "    <tr>\n",
       "      <th>2154</th>\n",
       "      <td>Explain how a large language model works</td>\n",
       "      <td>ai</td>\n",
       "      <td>2</td>\n",
       "    </tr>\n",
       "    <tr>\n",
       "      <th>2155</th>\n",
       "      <td>Explain how a large language model works</td>\n",
       "      <td>technology</td>\n",
       "      <td>1</td>\n",
       "    </tr>\n",
       "    <tr>\n",
       "      <th>2156</th>\n",
       "      <td>Explain how a large language model works</td>\n",
       "      <td>language</td>\n",
       "      <td>0</td>\n",
       "    </tr>\n",
       "  </tbody>\n",
       "</table>\n",
       "</div>"
      ],
      "text/plain": [
       "                                          text    category  label\n",
       "2154  Explain how a large language model works          ai      2\n",
       "2155  Explain how a large language model works  technology      1\n",
       "2156  Explain how a large language model works    language      0"
      ]
     },
     "metadata": {},
     "output_type": "display_data"
    },
    {
     "name": "stdout",
     "output_type": "stream",
     "text": [
      "records in Test split: 410\n",
      "...\n"
     ]
    },
    {
     "data": {
      "text/html": [
       "<div>\n",
       "<style scoped>\n",
       "    .dataframe tbody tr th:only-of-type {\n",
       "        vertical-align: middle;\n",
       "    }\n",
       "\n",
       "    .dataframe tbody tr th {\n",
       "        vertical-align: top;\n",
       "    }\n",
       "\n",
       "    .dataframe thead th {\n",
       "        text-align: right;\n",
       "    }\n",
       "</style>\n",
       "<table border=\"1\" class=\"dataframe\">\n",
       "  <thead>\n",
       "    <tr style=\"text-align: right;\">\n",
       "      <th></th>\n",
       "      <th>text</th>\n",
       "      <th>category</th>\n",
       "      <th>label</th>\n",
       "    </tr>\n",
       "  </thead>\n",
       "  <tbody>\n",
       "    <tr>\n",
       "      <th>407</th>\n",
       "      <td>How do you think, what can be the potential ne...</td>\n",
       "      <td>ai</td>\n",
       "      <td>2</td>\n",
       "    </tr>\n",
       "    <tr>\n",
       "      <th>408</th>\n",
       "      <td>When I was 6 my sister was half my age. Now I’...</td>\n",
       "      <td>ai</td>\n",
       "      <td>0</td>\n",
       "    </tr>\n",
       "    <tr>\n",
       "      <th>409</th>\n",
       "      <td>When I was 6 my sister was half my age. Now I’...</td>\n",
       "      <td>riddle</td>\n",
       "      <td>2</td>\n",
       "    </tr>\n",
       "  </tbody>\n",
       "</table>\n",
       "</div>"
      ],
      "text/plain": [
       "                                                  text category  label\n",
       "407  How do you think, what can be the potential ne...       ai      2\n",
       "408  When I was 6 my sister was half my age. Now I’...       ai      0\n",
       "409  When I was 6 my sister was half my age. Now I’...   riddle      2"
      ]
     },
     "metadata": {},
     "output_type": "display_data"
    }
   ],
   "source": [
    "nli_dataset = load_dataset('reddgr/nli-chatbot-prompt-categorization')\n",
    "print(f\"records in Train split: {len(nli_dataset['train'])}\\n...\")\n",
    "display(nli_dataset['train'].to_pandas().tail(3))\n",
    "print(f\"records in Test split: {len(nli_dataset['test'])}\\n...\")\n",
    "display(nli_dataset['test'].to_pandas().tail(3))"
   ]
  }
 ],
 "metadata": {
  "kernelspec": {
   "display_name": "base",
   "language": "python",
   "name": "python3"
  },
  "language_info": {
   "codemirror_mode": {
    "name": "ipython",
    "version": 3
   },
   "file_extension": ".py",
   "mimetype": "text/x-python",
   "name": "python",
   "nbconvert_exporter": "python",
   "pygments_lexer": "ipython3",
   "version": "3.11.5"
  }
 },
 "nbformat": 4,
 "nbformat_minor": 2
}
