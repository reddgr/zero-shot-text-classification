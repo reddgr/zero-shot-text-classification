{
 "cells": [
  {
   "cell_type": "markdown",
   "metadata": {},
   "source": [
    "### 0. Notebook setup"
   ]
  },
  {
   "cell_type": "code",
   "execution_count": 1,
   "metadata": {},
   "outputs": [
    {
     "name": "stdout",
     "output_type": "stream",
     "text": [
      "WARNING:tensorflow:From c:\\Users\\david\\anaconda3\\Lib\\site-packages\\tf_keras\\src\\losses.py:2976: The name tf.losses.sparse_softmax_cross_entropy is deprecated. Please use tf.compat.v1.losses.sparse_softmax_cross_entropy instead.\n",
      "\n",
      "Python version: 3.11.5 | packaged by Anaconda, Inc. | (main, Sep 11 2023, 13:26:23) [MSC v.1916 64 bit (AMD64)]\n",
      "PyTorch version: 2.2.2\n",
      "Transformers version: 4.44.2\n",
      "CUDA device: NVIDIA GeForce RTX 4060 Laptop GPU\n",
      "CUDA Version: 12.1\n",
      "FlashAttention available: True\n",
      "Retrieved token(s) from .env file\n",
      "Using HuggingFace token: hf_M*****************************IASJ\n",
      "Using HuggingFace write token: hf_u*****************************Xipx\n",
      "Using OpenAI token: sk-p************************************************************************************************************************************************************_5sA\n"
     ]
    }
   ],
   "source": [
    "COLAB = False # Set this to True if you want to install the libraries and clone the repository in Colab\n",
    "USE_DOTENV = True # Set this to False if you don't have a .env file for storing environment variables\n",
    "\n",
    "if COLAB:\n",
    "    USE_DOTENV = False\n",
    "    dotenv_path = None\n",
    "    from google.colab import userdata\n",
    "    colab_secrets = {'HF_TOKEN': userdata.get('HF_TOKEN'), 'HF_TOKEN_WRITE': userdata.get('HF_TOKEN_WRITE')}\n",
    "    !pip install datasets\n",
    "    !git clone https://github.com/reddgr/zero-shot-text-classification\n",
    "    import os\n",
    "    os.system(\"mv zero-shot-text-classification zs_tc\")\n",
    "\n",
    "if USE_DOTENV: \n",
    "    COLAB=False\n",
    "    dotenv_path = \"../../../../../apis/.env\"\n",
    "    colab_secrets = None\n",
    "\n",
    "from transformers import pipeline, AutoModelForSequenceClassification, TFAutoModelForSequenceClassification, AutoTokenizer,  AdamW, Trainer, TrainingArguments\n",
    "import tensorflow as tf\n",
    "import random\n",
    "from datasets import load_dataset, Dataset\n",
    "import pandas as pd\n",
    "from sklearn.metrics import ConfusionMatrixDisplay\n",
    "import sys\n",
    "import os\n",
    "import torch\n",
    "import textwrap\n",
    "from IPython.display import clear_output\n",
    "import matplotlib.pyplot as plt\n",
    "\n",
    "if COLAB:\n",
    "    import sys\n",
    "    sys.path.append(\"./zs_tc/src\")\n",
    "    import env_options, nli_labeling_widget as labeling_widget, text_classification_functions as tcf, lmsys_dataset_handler as lmsys\n",
    "else:\n",
    "    import sys\n",
    "    sys.path.append(\"./src\")\n",
    "    import text_classification_functions as tcf\n",
    "    import env_options\n",
    "    import lmsys_dataset_handler as lmsys\n",
    "    import nli_finetuning_utils\n",
    "\n",
    "hf_token, hf_token_write, openai_api_key = env_options.check_env(colab=COLAB, use_dotenv=USE_DOTENV, \n",
    "                                                 dotenv_path=dotenv_path, colab_secrets=colab_secrets)"
   ]
  },
  {
   "cell_type": "code",
   "execution_count": 3,
   "metadata": {},
   "outputs": [
    {
     "data": {
      "text/plain": [
       "<module 'text_classification_functions' from 'c:\\\\Users\\\\david\\\\Documents\\\\git\\\\zero-shot-text-classification\\\\./src\\\\text_classification_functions.py'>"
      ]
     },
     "execution_count": 3,
     "metadata": {},
     "output_type": "execute_result"
    }
   ],
   "source": [
    "### DEBUG ###\n",
    "import importlib\n",
    "importlib.reload(nli_finetuning_utils)\n",
    "importlib.reload(tcf)\n",
    "### DEBUG ###"
   ]
  },
  {
   "cell_type": "markdown",
   "metadata": {},
   "source": [
    "### Loading the dataset's Test split"
   ]
  },
  {
   "cell_type": "code",
   "execution_count": 3,
   "metadata": {},
   "outputs": [
    {
     "name": "stdout",
     "output_type": "stream",
     "text": [
      "Labels:  {'contradiction': 0, 'neutral': 1, 'entailment': 2}\n"
     ]
    },
    {
     "data": {
      "text/html": [
       "<div>\n",
       "<style scoped>\n",
       "    .dataframe tbody tr th:only-of-type {\n",
       "        vertical-align: middle;\n",
       "    }\n",
       "\n",
       "    .dataframe tbody tr th {\n",
       "        vertical-align: top;\n",
       "    }\n",
       "\n",
       "    .dataframe thead th {\n",
       "        text-align: right;\n",
       "    }\n",
       "</style>\n",
       "<table border=\"1\" class=\"dataframe\">\n",
       "  <thead>\n",
       "    <tr style=\"text-align: right;\">\n",
       "      <th></th>\n",
       "      <th>text</th>\n",
       "      <th>category</th>\n",
       "      <th>label</th>\n",
       "    </tr>\n",
       "  </thead>\n",
       "  <tbody>\n",
       "    <tr>\n",
       "      <th>5</th>\n",
       "      <td>I wanna have a conversation in german to practice</td>\n",
       "      <td>language</td>\n",
       "      <td>2</td>\n",
       "    </tr>\n",
       "    <tr>\n",
       "      <th>7</th>\n",
       "      <td>What you think about Belarus?</td>\n",
       "      <td>general knowledge</td>\n",
       "      <td>2</td>\n",
       "    </tr>\n",
       "    <tr>\n",
       "      <th>9</th>\n",
       "      <td>Help me rephrase this tagline by giving me a f...</td>\n",
       "      <td>language</td>\n",
       "      <td>2</td>\n",
       "    </tr>\n",
       "  </tbody>\n",
       "</table>\n",
       "</div>"
      ],
      "text/plain": [
       "                                                text           category  label\n",
       "5  I wanna have a conversation in german to practice           language      2\n",
       "7                      What you think about Belarus?  general knowledge      2\n",
       "9  Help me rephrase this tagline by giving me a f...           language      2"
      ]
     },
     "metadata": {},
     "output_type": "display_data"
    },
    {
     "name": "stdout",
     "output_type": "stream",
     "text": [
      "... 215 records ...\n"
     ]
    },
    {
     "data": {
      "text/html": [
       "<div>\n",
       "<style scoped>\n",
       "    .dataframe tbody tr th:only-of-type {\n",
       "        vertical-align: middle;\n",
       "    }\n",
       "\n",
       "    .dataframe tbody tr th {\n",
       "        vertical-align: top;\n",
       "    }\n",
       "\n",
       "    .dataframe thead th {\n",
       "        text-align: right;\n",
       "    }\n",
       "</style>\n",
       "<table border=\"1\" class=\"dataframe\">\n",
       "  <thead>\n",
       "    <tr style=\"text-align: right;\">\n",
       "      <th></th>\n",
       "      <th>text</th>\n",
       "      <th>category</th>\n",
       "      <th>label</th>\n",
       "    </tr>\n",
       "  </thead>\n",
       "  <tbody>\n",
       "    <tr>\n",
       "      <th>416</th>\n",
       "      <td>2023 black and white logo with guitars and roc...</td>\n",
       "      <td>images</td>\n",
       "      <td>2</td>\n",
       "    </tr>\n",
       "    <tr>\n",
       "      <th>417</th>\n",
       "      <td>You are an expert in financial analysis. Expla...</td>\n",
       "      <td>finance</td>\n",
       "      <td>2</td>\n",
       "    </tr>\n",
       "    <tr>\n",
       "      <th>419</th>\n",
       "      <td>\"Most constituents of the index are large-cap ...</td>\n",
       "      <td>finance</td>\n",
       "      <td>2</td>\n",
       "    </tr>\n",
       "  </tbody>\n",
       "</table>\n",
       "</div>"
      ],
      "text/plain": [
       "                                                  text category  label\n",
       "416  2023 black and white logo with guitars and roc...   images      2\n",
       "417  You are an expert in financial analysis. Expla...  finance      2\n",
       "419  \"Most constituents of the index are large-cap ...  finance      2"
      ]
     },
     "metadata": {},
     "output_type": "display_data"
    }
   ],
   "source": [
    "test_dataset_dict = load_dataset(\"reddgr/nli-chatbot-prompt-categorization\")\n",
    "test_dataset = test_dataset_dict[\"test\"]  # Access the \"test\" split\n",
    "test_dataset_df = test_dataset_dict[\"test\"].to_pandas()\n",
    "print(\"Labels: \",test_dataset_dict[\"test\"].features[\"label\"]._str2int)\n",
    "entailments_test_dataset_df = test_dataset_df[test_dataset_df['label'] == 2]\n",
    "display(entailments_test_dataset_df.head(3))\n",
    "print(f'... {len(entailments_test_dataset_df)} records ...')\n",
    "display(entailments_test_dataset_df.tail(3))"
   ]
  },
  {
   "cell_type": "markdown",
   "metadata": {},
   "source": [
    "## Top-10 Categories excluding 'general knowledge'"
   ]
  },
  {
   "cell_type": "code",
   "execution_count": 4,
   "metadata": {},
   "outputs": [
    {
     "name": "stdout",
     "output_type": "stream",
     "text": [
      "Top 12 prompt categories:\n",
      "category\n",
      "coding               40\n",
      "technology           23\n",
      "writing              21\n",
      "language             19\n",
      "science              18\n",
      "business             17\n",
      "popular culture      11\n",
      "role play            10\n",
      "general knowledge     9\n",
      "riddle                8\n",
      "finance               7\n",
      "ai                    6\n",
      "Name: count, dtype: int64\n",
      "\n",
      "10 categories (174 records for testing):\n",
      "['coding', 'technology', 'writing', 'language', 'science', 'business', 'popular culture', 'role play', 'riddle', 'finance']\n"
     ]
    },
    {
     "name": "stderr",
     "output_type": "stream",
     "text": [
      "c:\\Users\\david\\anaconda3\\Lib\\site-packages\\transformers\\tokenization_utils_base.py:1601: FutureWarning: `clean_up_tokenization_spaces` was not set. It will be set to `True` by default. This behavior will be depracted in transformers v4.45, and will be then set to `False` by default. For more details check this issue: https://github.com/huggingface/transformers/issues/31884\n",
      "  warnings.warn(\n"
     ]
    }
   ],
   "source": [
    "category_counts = entailments_test_dataset_df['category'].value_counts()\n",
    "top_n_display = 12\n",
    "print(f'Top {top_n_display} prompt categories:\\n{category_counts.head(top_n_display)}')\n",
    "category_counts = category_counts[category_counts.index != 'general knowledge']\n",
    "top_n_categories = 10\n",
    "top_categories = category_counts.head(top_n_categories).index\n",
    "test_entailments_df = entailments_test_dataset_df[entailments_test_dataset_df['category'].isin(top_categories)]\n",
    "print(f'\\n{top_n_categories} categories ({len(test_entailments_df)} records for testing):')\n",
    "print(top_categories.to_list())\n",
    "\n",
    "nli_model_path = 'reddgr/zero-shot-prompt-classifier-bart-ft'\n",
    "zs_classifier = tcf.ZeroShotClassifier(nli_model_path, nli_model_path, top_categories)\n",
    "\n",
    "base_model_path = 'facebook/bart-large-mnli'\n",
    "base_classifier = tcf.ZeroShotClassifier(base_model_path, base_model_path, top_categories)"
   ]
  },
  {
   "cell_type": "code",
   "execution_count": 6,
   "metadata": {},
   "outputs": [
    {
     "name": "stderr",
     "output_type": "stream",
     "text": [
      "c:\\Users\\david\\anaconda3\\Lib\\site-packages\\transformers\\tokenization_utils_base.py:1601: FutureWarning: `clean_up_tokenization_spaces` was not set. It will be set to `True` by default. This behavior will be depracted in transformers v4.45, and will be then set to `False` by default. For more details check this issue: https://github.com/huggingface/transformers/issues/31884\n",
      "  warnings.warn(\n",
      "Zero-shot classification with facebook/bart-large-mnli: 100%|██████████| 174/174 [00:30<00:00,  5.73it/s]\n",
      "Zero-shot classification with reddgr/zero-shot-prompt-classifier-bart-ft: 100%|██████████| 174/174 [00:30<00:00,  5.65it/s]\n"
     ]
    },
    {
     "data": {
      "image/png": "[encoded data removed]",
      "text/plain": [
       "<Figure size 1200x600 with 2 Axes>"
      ]
     },
     "metadata": {},
     "output_type": "display_data"
    }
   ],
   "source": [
    "base_model_path = 'facebook/bart-large-mnli'\n",
    "base_classifier = tcf.ZeroShotClassifier(base_model_path, base_model_path, top_categories)\n",
    "nli_model_path = 'reddgr/zero-shot-prompt-classifier-bart-ft'\n",
    "zs_classifier = tcf.ZeroShotClassifier(nli_model_path, nli_model_path, top_categories)\n",
    "base_test_metrics = base_classifier.test_zs_predictions(test_entailments_df, plot_conf_matrix=False)\n",
    "zs_test_metrics = zs_classifier.test_zs_predictions(test_entailments_df, plot_conf_matrix=False)\n",
    "\n",
    "metrics_comp = tcf.MetricsComparison(base_classifier, zs_classifier, base_test_metrics, zs_test_metrics)\n",
    "metrics_comp.compare_conf_matrices()"
   ]
  },
  {
   "cell_type": "code",
   "execution_count": 6,
   "metadata": {},
   "outputs": [
    {
     "name": "stdout",
     "output_type": "stream",
     "text": [
      "\n",
      "Accuracy by category:\n",
      "coding               0.875\n",
      "technology           0.826\n",
      "writing              0.667\n",
      "language             0.737\n",
      "science              0.778\n",
      "business             0.765\n",
      "popular culture      0.636\n",
      "role play            0.800\n",
      "riddle               0.750\n",
      "finance              0.857\n",
      "\n",
      "Results sample:\n"
     ]
    },
    {
     "data": {
      "text/html": [
       "<div>\n",
       "<style scoped>\n",
       "    .dataframe tbody tr th:only-of-type {\n",
       "        vertical-align: middle;\n",
       "    }\n",
       "\n",
       "    .dataframe tbody tr th {\n",
       "        vertical-align: top;\n",
       "    }\n",
       "\n",
       "    .dataframe thead th {\n",
       "        text-align: right;\n",
       "    }\n",
       "</style>\n",
       "<table border=\"1\" class=\"dataframe\">\n",
       "  <thead>\n",
       "    <tr style=\"text-align: right;\">\n",
       "      <th></th>\n",
       "      <th>text</th>\n",
       "      <th>category</th>\n",
       "      <th>label</th>\n",
       "      <th>predicted_class</th>\n",
       "    </tr>\n",
       "  </thead>\n",
       "  <tbody>\n",
       "    <tr>\n",
       "      <th>140</th>\n",
       "      <td>Name films like the video game Dishonored</td>\n",
       "      <td>popular culture</td>\n",
       "      <td>2</td>\n",
       "      <td>popular culture</td>\n",
       "    </tr>\n",
       "    <tr>\n",
       "      <th>373</th>\n",
       "      <td>can chief of staff and director human resource...</td>\n",
       "      <td>business</td>\n",
       "      <td>2</td>\n",
       "      <td>business</td>\n",
       "    </tr>\n",
       "    <tr>\n",
       "      <th>297</th>\n",
       "      <td>from datasets import load_dataset\\ndataset = l...</td>\n",
       "      <td>coding</td>\n",
       "      <td>2</td>\n",
       "      <td>coding</td>\n",
       "    </tr>\n",
       "    <tr>\n",
       "      <th>23</th>\n",
       "      <td>Can you make this link have color #353535 only...</td>\n",
       "      <td>coding</td>\n",
       "      <td>2</td>\n",
       "      <td>coding</td>\n",
       "    </tr>\n",
       "    <tr>\n",
       "      <th>227</th>\n",
       "      <td>InfluxDB is not a NAME_3 labs product, it's a ...</td>\n",
       "      <td>technology</td>\n",
       "      <td>2</td>\n",
       "      <td>technology</td>\n",
       "    </tr>\n",
       "  </tbody>\n",
       "</table>\n",
       "</div>"
      ],
      "text/plain": [
       "                                                  text         category  \\\n",
       "140          Name films like the video game Dishonored  popular culture   \n",
       "373  can chief of staff and director human resource...         business   \n",
       "297  from datasets import load_dataset\\ndataset = l...           coding   \n",
       "23   Can you make this link have color #353535 only...           coding   \n",
       "227  InfluxDB is not a NAME_3 labs product, it's a ...       technology   \n",
       "\n",
       "     label  predicted_class  \n",
       "140      2  popular culture  \n",
       "373      2         business  \n",
       "297      2           coding  \n",
       "23       2           coding  \n",
       "227      2       technology  "
      ]
     },
     "metadata": {},
     "output_type": "display_data"
    }
   ],
   "source": [
    "zs_test_metrics.get('detailed_results')\n",
    "\n",
    "results_df = pd.DataFrame(zs_test_metrics['detailed_results'])\n",
    "results_by_category = results_df.groupby(['category', 'predicted_class']).size().unstack(fill_value=0)\n",
    "accuracy_by_category = results_df.groupby('category').apply(lambda x: (x['category'] == x['predicted_class']).mean())\n",
    "\n",
    "print(\"\\nAccuracy by category:\")\n",
    "for category in top_categories:\n",
    "    print(f\"{category:20} {accuracy_by_category[category]:.3f}\")\n",
    "\n",
    "print(\"\\nResults sample:\")\n",
    "display(results_df.sample(5))"
   ]
  },
  {
   "cell_type": "code",
   "execution_count": 7,
   "metadata": {},
   "outputs": [],
   "source": [
    "from datetime import datetime\n",
    "today_date = datetime.now().strftime('%Y%m%d')\n",
    "results_df.to_csv(f'csv/10c-test-ft-{today_date}.csv', index=False)"
   ]
  },
  {
   "cell_type": "markdown",
   "metadata": {},
   "source": [
    "Riddle example:"
   ]
  },
  {
   "cell_type": "code",
   "execution_count": 8,
   "metadata": {},
   "outputs": [
    {
     "name": "stdout",
     "output_type": "stream",
     "text": [
      "\n",
      "Classification with base model:\n",
      "sequence: I'm twice the age you were when i was your age. How old are we?\n",
      "labels: ['riddle', 'language', 'role play', 'writing', 'popular culture', 'science', 'business', 'technology', 'finance', 'coding']\n",
      "scores: [0.515, 0.119, 0.075, 0.073, 0.052, 0.04, 0.039, 0.036, 0.026, 0.026]\n",
      "\n",
      "Classification with fine-tuned model:\n",
      "sequence: I'm twice the age you were when i was your age. How old are we?\n",
      "labels: ['riddle', 'role play', 'writing', 'language', 'popular culture', 'science', 'business', 'coding', 'technology', 'finance']\n",
      "scores: [0.358, 0.183, 0.111, 0.097, 0.061, 0.052, 0.044, 0.035, 0.033, 0.026]\n"
     ]
    }
   ],
   "source": [
    "# text_sample = test_entailments_df.sample(1).text.values[0]\n",
    "text_sample = \"I'm twice the age you were when i was your age. How old are we?\"\n",
    "ft_result = zs_classifier.classify_text(text_sample, multi_label=False)\n",
    "base_result = base_classifier.classify_text(text_sample, multi_label=False)\n",
    "clear_output(wait=True)\n",
    "\n",
    "print(\"\\nClassification with base model:\")\n",
    "for key, value in base_result.items():\n",
    "    print(f\"{key}: {value}\")\n",
    "\n",
    "print(\"\\nClassification with fine-tuned model:\")\n",
    "for key, value in ft_result.items():\n",
    "    print(f\"{key}: {value}\")"
   ]
  },
  {
   "cell_type": "markdown",
   "metadata": {},
   "source": [
    "## 6 TTCB Grouped Categories"
   ]
  },
  {
   "cell_type": "code",
   "execution_count": 9,
   "metadata": {},
   "outputs": [
    {
     "name": "stdout",
     "output_type": "stream",
     "text": [
      "Top 10 prompt categories:\n",
      "category\n",
      "language and writing         40\n",
      "coding                       40\n",
      "technology and ai            29\n",
      "business and finance         24\n",
      "science                      18\n",
      "culture and entertainment    15\n",
      "role play                    10\n",
      "general knowledge             9\n",
      "riddle                        8\n",
      "images                        5\n",
      "Name: count, dtype: int64\n",
      "166 records for testing 6 category groups\n",
      "['language and writing', 'coding', 'technology and ai', 'business and finance', 'science', 'culture and entertainment']\n"
     ]
    }
   ],
   "source": [
    "test_df_grouped = entailments_test_dataset_df.copy()\n",
    "# test_df_grouped = test_entailments_df.copy()\n",
    "test_df_grouped.loc[test_df_grouped['category'] == 'business', 'category'] = 'business and finance'\n",
    "test_df_grouped.loc[test_df_grouped['category'] == 'finance', 'category'] = 'business and finance'\n",
    "test_df_grouped.loc[test_df_grouped['category'] == 'language', 'category'] = 'language and writing'\n",
    "test_df_grouped.loc[test_df_grouped['category'] == 'writing', 'category'] = 'language and writing'\n",
    "test_df_grouped.loc[test_df_grouped['category'] == 'popular culture', 'category'] = 'culture and entertainment'\n",
    "test_df_grouped.loc[test_df_grouped['category'] == 'music', 'category'] = 'culture and entertainment'\n",
    "test_df_grouped.loc[test_df_grouped['category'] == 'entertainment', 'category'] = 'culture and entertainment'\n",
    "test_df_grouped.loc[test_df_grouped['category'] == 'technology', 'category'] = 'technology and ai'\n",
    "test_df_grouped.loc[test_df_grouped['category'] == 'ai', 'category'] = 'technology and ai'\n",
    "\n",
    "category_counts = test_df_grouped['category'].value_counts()\n",
    "top_n_display = 10\n",
    "print(f'Top {top_n_display} prompt categories:\\n{category_counts.head(top_n_display)}')\n",
    "category_counts = category_counts[category_counts.index != 'general knowledge']\n",
    "top_n_categories = 6\n",
    "top_categories = category_counts.head(top_n_categories).index\n",
    "test_entailments_grouped = test_df_grouped[test_df_grouped['category'].isin(top_categories)]\n",
    "print(f'{len(test_entailments_grouped)} records for testing {top_n_categories} category groups')\n",
    "print(top_categories.to_list())"
   ]
  },
  {
   "cell_type": "markdown",
   "metadata": {},
   "source": [
    "Classifying and comparing confusion matrices:"
   ]
  },
  {
   "cell_type": "code",
   "execution_count": 10,
   "metadata": {},
   "outputs": [
    {
     "name": "stderr",
     "output_type": "stream",
     "text": [
      "c:\\Users\\david\\anaconda3\\Lib\\site-packages\\transformers\\tokenization_utils_base.py:1601: FutureWarning: `clean_up_tokenization_spaces` was not set. It will be set to `True` by default. This behavior will be depracted in transformers v4.45, and will be then set to `False` by default. For more details check this issue: https://github.com/huggingface/transformers/issues/31884\n",
      "  warnings.warn(\n",
      "Zero-shot classification with facebook/bart-large-mnli: 100%|██████████| 166/166 [00:20<00:00,  8.14it/s]\n",
      "Zero-shot classification with reddgr/zero-shot-prompt-classifier-bart-ft: 100%|██████████| 166/166 [02:35<00:00,  1.06it/s]\n"
     ]
    },
    {
     "data": {
      "image/png": "[encoded data removed]",
      "text/plain": [
       "<Figure size 1200x600 with 2 Axes>"
      ]
     },
     "metadata": {},
     "output_type": "display_data"
    }
   ],
   "source": [
    "base_classifier = tcf.ZeroShotClassifier('facebook/bart-large-mnli', base_model_path, top_categories)\n",
    "zs_classifier = tcf.ZeroShotClassifier('reddgr/zero-shot-prompt-classifier-bart-ft', nli_model_path, top_categories)\n",
    "base_test_metrics = base_classifier.test_zs_predictions(test_entailments_grouped, plot_conf_matrix=False)\n",
    "zs_test_metrics = zs_classifier.test_zs_predictions(test_entailments_grouped, plot_conf_matrix=False)\n",
    "\n",
    "metrics_comp = tcf.MetricsComparison(base_classifier, zs_classifier, base_test_metrics, zs_test_metrics)\n",
    "metrics_comp.compare_conf_matrices()"
   ]
  },
  {
   "cell_type": "markdown",
   "metadata": {},
   "source": [
    "## Top-12 categories excluding \"general knowledge\""
   ]
  },
  {
   "cell_type": "markdown",
   "metadata": {},
   "source": [
    "Instantiating the zero-shot classifiers:"
   ]
  },
  {
   "cell_type": "code",
   "execution_count": 11,
   "metadata": {},
   "outputs": [
    {
     "name": "stdout",
     "output_type": "stream",
     "text": [
      "Top 15 prompt categories:\n",
      "category\n",
      "coding               40\n",
      "technology           23\n",
      "writing              21\n",
      "language             19\n",
      "science              18\n",
      "business             17\n",
      "popular culture      11\n",
      "role play            10\n",
      "general knowledge     9\n",
      "riddle                8\n",
      "finance               7\n",
      "ai                    6\n",
      "images                5\n",
      "philosophy            4\n",
      "music                 3\n",
      "Name: count, dtype: int64\n",
      "185 records for testing 12 categories\n",
      "Dataset({\n",
      "    features: ['text', 'category', 'label', '__index_level_0__'],\n",
      "    num_rows: 185\n",
      "})\n",
      "['coding', 'technology', 'writing', 'language', 'science', 'business', 'popular culture', 'role play', 'riddle', 'finance', 'ai', 'images']\n"
     ]
    }
   ],
   "source": [
    "category_counts = entailments_test_dataset_df['category'].value_counts()\n",
    "top_n_display = 15\n",
    "print(f'Top {top_n_display} prompt categories:\\n{category_counts.head(top_n_display)}')\n",
    "category_counts = category_counts[category_counts.index != 'general knowledge']\n",
    "top_n_categories = 12\n",
    "top_categories = category_counts.head(top_n_categories).index\n",
    "test_entailments_df = entailments_test_dataset_df[entailments_test_dataset_df['category'].isin(top_categories)]\n",
    "print(f'{len(test_entailments_df)} records for testing {top_n_categories} categories')\n",
    "test_entailments_dataset = Dataset.from_pandas(test_entailments_df)\n",
    "print(test_entailments_dataset)\n",
    "print(top_categories.to_list())"
   ]
  },
  {
   "cell_type": "code",
   "execution_count": 13,
   "metadata": {},
   "outputs": [],
   "source": [
    "nli_model_path = 'reddgr/zero-shot-prompt-classifier-bart-ft'\n",
    "zs_classifier = tcf.ZeroShotClassifier(nli_model_path, nli_model_path, top_categories)\n",
    "\n",
    "base_model_path = 'facebook/bart-large-mnli'\n",
    "base_classifier = tcf.ZeroShotClassifier(base_model_path, base_model_path, top_categories)"
   ]
  },
  {
   "cell_type": "markdown",
   "metadata": {},
   "source": [
    "Zero-shot classification examples:"
   ]
  },
  {
   "cell_type": "code",
   "execution_count": 14,
   "metadata": {},
   "outputs": [
    {
     "name": "stdout",
     "output_type": "stream",
     "text": [
      "Classification with fine-tuned model:\n",
      "sequence: Help me design a scalable multi-model data integration platform for database developers.\n",
      "labels: ['technology', 'business', 'coding', 'ai', 'role play', 'writing', 'language', 'riddle', 'popular culture', 'images', 'science', 'finance']\n",
      "scores: [0.509, 0.101, 0.1, 0.07, 0.066, 0.056, 0.03, 0.021, 0.016, 0.013, 0.011, 0.006]\n",
      "Classification with base model:\n",
      "sequence: Help me design a scalable multi-model data integration platform for database developers.\n",
      "labels: ['technology', 'role play', 'business', 'writing', 'ai', 'language', 'coding', 'popular culture', 'riddle', 'images', 'science', 'finance']\n",
      "scores: [0.646, 0.085, 0.061, 0.055, 0.039, 0.032, 0.03, 0.019, 0.016, 0.007, 0.006, 0.003]\n"
     ]
    }
   ],
   "source": [
    "text_sample = test_entailments_df.sample(1).text.values[0]\n",
    "text_sample = \"Help me design a scalable multi-model data integration platform for database developers.\"\n",
    "ft_result = zs_classifier.classify_text(text_sample, multi_label=False)\n",
    "base_result = base_classifier.classify_text(text_sample, multi_label=False)\n",
    "clear_output(wait=True)\n",
    "print(\"Classification with fine-tuned model:\")\n",
    "for key, value in ft_result.items():\n",
    "    print(f\"{key}: {value}\")\n",
    "\n",
    "print(\"Classification with base model:\")\n",
    "for key, value in base_result.items():\n",
    "    print(f\"{key}: {value}\")"
   ]
  },
  {
   "cell_type": "code",
   "execution_count": 16,
   "metadata": {},
   "outputs": [
    {
     "name": "stderr",
     "output_type": "stream",
     "text": [
      "100%|██████████| 10/10 [00:18<00:00,  1.86s/it]"
     ]
    },
    {
     "name": "stdout",
     "output_type": "stream",
     "text": [
      "Sample accuracy: 90.0%\n"
     ]
    },
    {
     "name": "stderr",
     "output_type": "stream",
     "text": [
      "\n"
     ]
    },
    {
     "data": {
      "text/html": [
       "<div>\n",
       "<style scoped>\n",
       "    .dataframe tbody tr th:only-of-type {\n",
       "        vertical-align: middle;\n",
       "    }\n",
       "\n",
       "    .dataframe tbody tr th {\n",
       "        vertical-align: top;\n",
       "    }\n",
       "\n",
       "    .dataframe thead th {\n",
       "        text-align: right;\n",
       "    }\n",
       "</style>\n",
       "<table border=\"1\" class=\"dataframe\">\n",
       "  <thead>\n",
       "    <tr style=\"text-align: right;\">\n",
       "      <th></th>\n",
       "      <th>text</th>\n",
       "      <th>category</th>\n",
       "      <th>label</th>\n",
       "      <th>top_class_zs</th>\n",
       "      <th>top_score_zs</th>\n",
       "      <th>full_results_zs</th>\n",
       "      <th>is_correct</th>\n",
       "    </tr>\n",
       "  </thead>\n",
       "  <tbody>\n",
       "    <tr>\n",
       "      <th>128</th>\n",
       "      <td>Make a very annoying email with lots of errors...</td>\n",
       "      <td>role play</td>\n",
       "      <td>2</td>\n",
       "      <td>role play</td>\n",
       "      <td>0.438</td>\n",
       "      <td>[(role play, 0.438), (language, 0.171), (writi...</td>\n",
       "      <td>1</td>\n",
       "    </tr>\n",
       "    <tr>\n",
       "      <th>155</th>\n",
       "      <td>Please write a Python function with comments t...</td>\n",
       "      <td>coding</td>\n",
       "      <td>2</td>\n",
       "      <td>coding</td>\n",
       "      <td>0.615</td>\n",
       "      <td>[(coding, 0.615), (writing, 0.154), (technolog...</td>\n",
       "      <td>1</td>\n",
       "    </tr>\n",
       "    <tr>\n",
       "      <th>147</th>\n",
       "      <td>Did they give you any prompt to get you started?</td>\n",
       "      <td>ai</td>\n",
       "      <td>2</td>\n",
       "      <td>ai</td>\n",
       "      <td>0.226</td>\n",
       "      <td>[(ai, 0.226), (role play, 0.158), (writing, 0....</td>\n",
       "      <td>1</td>\n",
       "    </tr>\n",
       "    <tr>\n",
       "      <th>204</th>\n",
       "      <td>How does the act of selling government bonds r...</td>\n",
       "      <td>finance</td>\n",
       "      <td>2</td>\n",
       "      <td>finance</td>\n",
       "      <td>0.578</td>\n",
       "      <td>[(finance, 0.578), (riddle, 0.102), (science, ...</td>\n",
       "      <td>1</td>\n",
       "    </tr>\n",
       "    <tr>\n",
       "      <th>45</th>\n",
       "      <td>hello give me some information about large lan...</td>\n",
       "      <td>ai</td>\n",
       "      <td>2</td>\n",
       "      <td>language</td>\n",
       "      <td>0.217</td>\n",
       "      <td>[(language, 0.217), (ai, 0.142), (coding, 0.12...</td>\n",
       "      <td>0</td>\n",
       "    </tr>\n",
       "    <tr>\n",
       "      <th>328</th>\n",
       "      <td>What is the smallest integer whose square is b...</td>\n",
       "      <td>riddle</td>\n",
       "      <td>2</td>\n",
       "      <td>riddle</td>\n",
       "      <td>0.576</td>\n",
       "      <td>[(riddle, 0.576), (science, 0.105), (ai, 0.098...</td>\n",
       "      <td>1</td>\n",
       "    </tr>\n",
       "    <tr>\n",
       "      <th>355</th>\n",
       "      <td>\"Develop a PySpark script that applies a map o...</td>\n",
       "      <td>coding</td>\n",
       "      <td>2</td>\n",
       "      <td>coding</td>\n",
       "      <td>0.722</td>\n",
       "      <td>[(coding, 0.722), (technology, 0.132), (writin...</td>\n",
       "      <td>1</td>\n",
       "    </tr>\n",
       "    <tr>\n",
       "      <th>86</th>\n",
       "      <td>How many languages do you understand?</td>\n",
       "      <td>language</td>\n",
       "      <td>2</td>\n",
       "      <td>language</td>\n",
       "      <td>0.401</td>\n",
       "      <td>[(language, 0.401), (riddle, 0.242), (ai, 0.11...</td>\n",
       "      <td>1</td>\n",
       "    </tr>\n",
       "    <tr>\n",
       "      <th>383</th>\n",
       "      <td>\"Construct a PySpark script to handle missing ...</td>\n",
       "      <td>coding</td>\n",
       "      <td>2</td>\n",
       "      <td>coding</td>\n",
       "      <td>0.755</td>\n",
       "      <td>[(coding, 0.755), (technology, 0.104), (writin...</td>\n",
       "      <td>1</td>\n",
       "    </tr>\n",
       "    <tr>\n",
       "      <th>235</th>\n",
       "      <td>The following is a simple python script to pri...</td>\n",
       "      <td>coding</td>\n",
       "      <td>2</td>\n",
       "      <td>coding</td>\n",
       "      <td>0.866</td>\n",
       "      <td>[(coding, 0.866), (technology, 0.035), (ai, 0....</td>\n",
       "      <td>1</td>\n",
       "    </tr>\n",
       "  </tbody>\n",
       "</table>\n",
       "</div>"
      ],
      "text/plain": [
       "                                                  text   category  label  \\\n",
       "128  Make a very annoying email with lots of errors...  role play      2   \n",
       "155  Please write a Python function with comments t...     coding      2   \n",
       "147   Did they give you any prompt to get you started?         ai      2   \n",
       "204  How does the act of selling government bonds r...    finance      2   \n",
       "45   hello give me some information about large lan...         ai      2   \n",
       "328  What is the smallest integer whose square is b...     riddle      2   \n",
       "355  \"Develop a PySpark script that applies a map o...     coding      2   \n",
       "86               How many languages do you understand?   language      2   \n",
       "383  \"Construct a PySpark script to handle missing ...     coding      2   \n",
       "235  The following is a simple python script to pri...     coding      2   \n",
       "\n",
       "    top_class_zs  top_score_zs  \\\n",
       "128    role play         0.438   \n",
       "155       coding         0.615   \n",
       "147           ai         0.226   \n",
       "204      finance         0.578   \n",
       "45      language         0.217   \n",
       "328       riddle         0.576   \n",
       "355       coding         0.722   \n",
       "86      language         0.401   \n",
       "383       coding         0.755   \n",
       "235       coding         0.866   \n",
       "\n",
       "                                       full_results_zs  is_correct  \n",
       "128  [(role play, 0.438), (language, 0.171), (writi...           1  \n",
       "155  [(coding, 0.615), (writing, 0.154), (technolog...           1  \n",
       "147  [(ai, 0.226), (role play, 0.158), (writing, 0....           1  \n",
       "204  [(finance, 0.578), (riddle, 0.102), (science, ...           1  \n",
       "45   [(language, 0.217), (ai, 0.142), (coding, 0.12...           0  \n",
       "328  [(riddle, 0.576), (science, 0.105), (ai, 0.098...           1  \n",
       "355  [(coding, 0.722), (technology, 0.132), (writin...           1  \n",
       "86   [(language, 0.401), (riddle, 0.242), (ai, 0.11...           1  \n",
       "383  [(coding, 0.755), (technology, 0.104), (writin...           1  \n",
       "235  [(coding, 0.866), (technology, 0.035), (ai, 0....           1  "
      ]
     },
     "metadata": {},
     "output_type": "display_data"
    }
   ],
   "source": [
    "df_testing = test_entailments_df.sample(10).copy()\n",
    "df_testing_zs = zs_classifier.classify_dataframe_column(df_testing, target_column = 'text', feature_suffix = 'zs')\n",
    "# Add a column to indicate if the prediction was correct\n",
    "df_testing_zs['is_correct'] = (\n",
    "    df_testing_zs['category'] == df_testing_zs['top_class_zs']\n",
    ").astype(int)\n",
    "# Calculate accuracy of the sample:\n",
    "sample_accuracy = df_testing_zs['is_correct'].mean() * 100\n",
    "print(f\"Sample accuracy: {sample_accuracy:.1f}%\")\n",
    "display(df_testing_zs)"
   ]
  },
  {
   "cell_type": "code",
   "execution_count": 17,
   "metadata": {},
   "outputs": [
    {
     "name": "stderr",
     "output_type": "stream",
     "text": [
      "Zero-shot classification with facebook/bart-large-mnli: 100%|██████████| 185/185 [00:54<00:00,  3.37it/s]\n",
      "Zero-shot classification with reddgr/zero-shot-prompt-classifier-bart-ft: 100%|██████████| 185/185 [07:07<00:00,  2.31s/it]\n"
     ]
    },
    {
     "data": {
      "image/png": "[encoded data removed]",
      "text/plain": [
       "<Figure size 1200x600 with 2 Axes>"
      ]
     },
     "metadata": {},
     "output_type": "display_data"
    }
   ],
   "source": [
    "base_test_metrics = base_classifier.test_zs_predictions(test_entailments_df, plot_conf_matrix=False)\n",
    "zs_test_metrics = zs_classifier.test_zs_predictions(test_entailments_df, plot_conf_matrix=False)\n",
    "\n",
    "metrics_comp = tcf.MetricsComparison(base_classifier, zs_classifier, base_test_metrics, zs_test_metrics)\n",
    "metrics_comp.compare_conf_matrices()"
   ]
  },
  {
   "cell_type": "markdown",
   "metadata": {},
   "source": [
    "Sample results:"
   ]
  },
  {
   "cell_type": "code",
   "execution_count": 16,
   "metadata": {},
   "outputs": [
    {
     "data": {
      "text/html": [
       "<div>\n",
       "<style scoped>\n",
       "    .dataframe tbody tr th:only-of-type {\n",
       "        vertical-align: middle;\n",
       "    }\n",
       "\n",
       "    .dataframe tbody tr th {\n",
       "        vertical-align: top;\n",
       "    }\n",
       "\n",
       "    .dataframe thead th {\n",
       "        text-align: right;\n",
       "    }\n",
       "</style>\n",
       "<table border=\"1\" class=\"dataframe\">\n",
       "  <thead>\n",
       "    <tr style=\"text-align: right;\">\n",
       "      <th></th>\n",
       "      <th>text</th>\n",
       "      <th>category</th>\n",
       "      <th>label</th>\n",
       "      <th>predicted_class</th>\n",
       "    </tr>\n",
       "  </thead>\n",
       "  <tbody>\n",
       "    <tr>\n",
       "      <th>225</th>\n",
       "      <td>tell a short funny story about how cats like t...</td>\n",
       "      <td>writing</td>\n",
       "      <td>2</td>\n",
       "      <td>popular culture</td>\n",
       "    </tr>\n",
       "    <tr>\n",
       "      <th>36</th>\n",
       "      <td>what is an equivalent term for \"day to day con...</td>\n",
       "      <td>language</td>\n",
       "      <td>2</td>\n",
       "      <td>language</td>\n",
       "    </tr>\n",
       "    <tr>\n",
       "      <th>217</th>\n",
       "      <td>do worms start eating a body from inside</td>\n",
       "      <td>science</td>\n",
       "      <td>2</td>\n",
       "      <td>science</td>\n",
       "    </tr>\n",
       "    <tr>\n",
       "      <th>96</th>\n",
       "      <td>A retail establishment accepts either the Amer...</td>\n",
       "      <td>riddle</td>\n",
       "      <td>2</td>\n",
       "      <td>business</td>\n",
       "    </tr>\n",
       "    <tr>\n",
       "      <th>194</th>\n",
       "      <td>peripheral neuropathy causes</td>\n",
       "      <td>science</td>\n",
       "      <td>2</td>\n",
       "      <td>science</td>\n",
       "    </tr>\n",
       "  </tbody>\n",
       "</table>\n",
       "</div>"
      ],
      "text/plain": [
       "                                                  text  category  label  \\\n",
       "225  tell a short funny story about how cats like t...   writing      2   \n",
       "36   what is an equivalent term for \"day to day con...  language      2   \n",
       "217           do worms start eating a body from inside   science      2   \n",
       "96   A retail establishment accepts either the Amer...    riddle      2   \n",
       "194                       peripheral neuropathy causes   science      2   \n",
       "\n",
       "     predicted_class  \n",
       "225  popular culture  \n",
       "36          language  \n",
       "217          science  \n",
       "96          business  \n",
       "194          science  "
      ]
     },
     "metadata": {},
     "output_type": "display_data"
    }
   ],
   "source": [
    "zs_test_metrics.get('detailed_results')\n",
    "results_df = pd.DataFrame(zs_test_metrics['detailed_results'])\n",
    "display(results_df.sample(5))\n",
    "results_df.to_csv('csv/12c-test.csv', index=False)"
   ]
  },
  {
   "cell_type": "markdown",
   "metadata": {},
   "source": [
    "Accuracy by labeled category:"
   ]
  },
  {
   "cell_type": "code",
   "execution_count": 18,
   "metadata": {},
   "outputs": [
    {
     "name": "stdout",
     "output_type": "stream",
     "text": [
      "\n",
      "Accuracy by category:\n",
      "coding               0.875\n",
      "technology           0.739\n",
      "writing              0.619\n",
      "language             0.737\n",
      "science              0.611\n",
      "business             0.706\n",
      "popular culture      0.636\n",
      "role play            0.700\n",
      "riddle               0.750\n",
      "finance              0.714\n",
      "ai                   0.167\n",
      "images               0.600\n",
      "\n",
      "Results sample:\n"
     ]
    },
    {
     "data": {
      "text/html": [
       "<div>\n",
       "<style scoped>\n",
       "    .dataframe tbody tr th:only-of-type {\n",
       "        vertical-align: middle;\n",
       "    }\n",
       "\n",
       "    .dataframe tbody tr th {\n",
       "        vertical-align: top;\n",
       "    }\n",
       "\n",
       "    .dataframe thead th {\n",
       "        text-align: right;\n",
       "    }\n",
       "</style>\n",
       "<table border=\"1\" class=\"dataframe\">\n",
       "  <thead>\n",
       "    <tr style=\"text-align: right;\">\n",
       "      <th></th>\n",
       "      <th>text</th>\n",
       "      <th>category</th>\n",
       "      <th>label</th>\n",
       "      <th>predicted_class</th>\n",
       "    </tr>\n",
       "  </thead>\n",
       "  <tbody>\n",
       "    <tr>\n",
       "      <th>70</th>\n",
       "      <td>Do you know something about british airway?</td>\n",
       "      <td>business</td>\n",
       "      <td>2</td>\n",
       "      <td>ai</td>\n",
       "    </tr>\n",
       "    <tr>\n",
       "      <th>9</th>\n",
       "      <td>Help me rephrase this tagline by giving me a f...</td>\n",
       "      <td>language</td>\n",
       "      <td>2</td>\n",
       "      <td>language</td>\n",
       "    </tr>\n",
       "    <tr>\n",
       "      <th>135</th>\n",
       "      <td>Write below sentence in an alternative way.\\nI...</td>\n",
       "      <td>writing</td>\n",
       "      <td>2</td>\n",
       "      <td>writing</td>\n",
       "    </tr>\n",
       "    <tr>\n",
       "      <th>288</th>\n",
       "      <td>Explain this notes taken in Spanish about the ...</td>\n",
       "      <td>science</td>\n",
       "      <td>2</td>\n",
       "      <td>science</td>\n",
       "    </tr>\n",
       "    <tr>\n",
       "      <th>191</th>\n",
       "      <td>peripheral neuropathy causes</td>\n",
       "      <td>science</td>\n",
       "      <td>2</td>\n",
       "      <td>ai</td>\n",
       "    </tr>\n",
       "  </tbody>\n",
       "</table>\n",
       "</div>"
      ],
      "text/plain": [
       "                                                  text  category  label  \\\n",
       "70         Do you know something about british airway?  business      2   \n",
       "9    Help me rephrase this tagline by giving me a f...  language      2   \n",
       "135  Write below sentence in an alternative way.\\nI...   writing      2   \n",
       "288  Explain this notes taken in Spanish about the ...   science      2   \n",
       "191                       peripheral neuropathy causes   science      2   \n",
       "\n",
       "    predicted_class  \n",
       "70               ai  \n",
       "9          language  \n",
       "135         writing  \n",
       "288         science  \n",
       "191              ai  "
      ]
     },
     "metadata": {},
     "output_type": "display_data"
    }
   ],
   "source": [
    "zs_test_metrics.get('detailed_results')\n",
    "results_df = pd.DataFrame(zs_test_metrics['detailed_results'])\n",
    "results_by_category = results_df.groupby(['category', 'predicted_class']).size().unstack(fill_value=0)\n",
    "accuracy_by_category = results_df.groupby('category').apply(lambda x: (x['category'] == x['predicted_class']).mean())\n",
    "\n",
    "print(\"\\nAccuracy by category:\")\n",
    "for category in top_categories:\n",
    "    print(f\"{category:20} {accuracy_by_category[category]:.3f}\")\n",
    "\n",
    "print(\"\\nResults sample:\")\n",
    "display(results_df.sample(5))"
   ]
  },
  {
   "cell_type": "markdown",
   "metadata": {},
   "source": [
    "______________________________"
   ]
  },
  {
   "cell_type": "markdown",
   "metadata": {},
   "source": [
    "### Test dataset edits"
   ]
  },
  {
   "cell_type": "code",
   "execution_count": 63,
   "metadata": {},
   "outputs": [
    {
     "name": "stdout",
     "output_type": "stream",
     "text": [
      "Labels:  {'contradiction': 0, 'neutral': 1, 'entailment': 2}\n",
      "Entailments examples:\n",
      "409 records. Sample:\n"
     ]
    },
    {
     "data": {
      "text/html": [
       "<div>\n",
       "<style scoped>\n",
       "    .dataframe tbody tr th:only-of-type {\n",
       "        vertical-align: middle;\n",
       "    }\n",
       "\n",
       "    .dataframe tbody tr th {\n",
       "        vertical-align: top;\n",
       "    }\n",
       "\n",
       "    .dataframe thead th {\n",
       "        text-align: right;\n",
       "    }\n",
       "</style>\n",
       "<table border=\"1\" class=\"dataframe\">\n",
       "  <thead>\n",
       "    <tr style=\"text-align: right;\">\n",
       "      <th></th>\n",
       "      <th>text</th>\n",
       "      <th>category</th>\n",
       "      <th>label</th>\n",
       "    </tr>\n",
       "  </thead>\n",
       "  <tbody>\n",
       "    <tr>\n",
       "      <th>319</th>\n",
       "      <td>What’s the problem with the expression “we mis...</td>\n",
       "      <td>language</td>\n",
       "      <td>2</td>\n",
       "    </tr>\n",
       "    <tr>\n",
       "      <th>87</th>\n",
       "      <td>How to use chatGpt?</td>\n",
       "      <td>technology</td>\n",
       "      <td>2</td>\n",
       "    </tr>\n",
       "    <tr>\n",
       "      <th>93</th>\n",
       "      <td>Explain what networking lessons we can learn f...</td>\n",
       "      <td>popular culture</td>\n",
       "      <td>2</td>\n",
       "    </tr>\n",
       "  </tbody>\n",
       "</table>\n",
       "</div>"
      ],
      "text/plain": [
       "                                                  text         category  label\n",
       "319  What’s the problem with the expression “we mis...         language      2\n",
       "87                                 How to use chatGpt?       technology      2\n",
       "93   Explain what networking lessons we can learn f...  popular culture      2"
      ]
     },
     "metadata": {},
     "output_type": "display_data"
    }
   ],
   "source": [
    "test_dataset_dict = load_dataset(\"reddgr/nli-chatbot-prompt-categorization\")\n",
    "test_dataset = test_dataset_dict[\"test\"]  # Access the \"test\" split\n",
    "test_dataset_df = test_dataset_dict[\"test\"].to_pandas()\n",
    "print(\"Labels: \",test_dataset_dict[\"test\"].features[\"label\"]._str2int)\n",
    "print(\"Entailments examples:\")\n",
    "print(f\"{len(test_dataset_df)} records. Sample:\")\n",
    "display(test_dataset_df[test_dataset_df['label']==2].sample(3))"
   ]
  },
  {
   "cell_type": "code",
   "execution_count": 68,
   "metadata": {},
   "outputs": [
    {
     "data": {
      "text/html": [
       "<div>\n",
       "<style scoped>\n",
       "    .dataframe tbody tr th:only-of-type {\n",
       "        vertical-align: middle;\n",
       "    }\n",
       "\n",
       "    .dataframe tbody tr th {\n",
       "        vertical-align: top;\n",
       "    }\n",
       "\n",
       "    .dataframe thead th {\n",
       "        text-align: right;\n",
       "    }\n",
       "</style>\n",
       "<table border=\"1\" class=\"dataframe\">\n",
       "  <thead>\n",
       "    <tr style=\"text-align: right;\">\n",
       "      <th></th>\n",
       "      <th>text</th>\n",
       "      <th>category</th>\n",
       "      <th>label</th>\n",
       "    </tr>\n",
       "  </thead>\n",
       "  <tbody>\n",
       "    <tr>\n",
       "      <th>45</th>\n",
       "      <td>hello give me some information about large lan...</td>\n",
       "      <td>ai</td>\n",
       "      <td>2</td>\n",
       "    </tr>\n",
       "    <tr>\n",
       "      <th>147</th>\n",
       "      <td>Did they give you any prompt to get you started?</td>\n",
       "      <td>ai</td>\n",
       "      <td>2</td>\n",
       "    </tr>\n",
       "    <tr>\n",
       "      <th>208</th>\n",
       "      <td>Hey! Can you please explain how chatgpt works?</td>\n",
       "      <td>ai</td>\n",
       "      <td>2</td>\n",
       "    </tr>\n",
       "    <tr>\n",
       "      <th>257</th>\n",
       "      <td>what kind of AI language model are you?</td>\n",
       "      <td>ai</td>\n",
       "      <td>2</td>\n",
       "    </tr>\n",
       "    <tr>\n",
       "      <th>332</th>\n",
       "      <td>What’s a good chatbot that can access the Inte...</td>\n",
       "      <td>ai</td>\n",
       "      <td>2</td>\n",
       "    </tr>\n",
       "    <tr>\n",
       "      <th>406</th>\n",
       "      <td>How do you think, what can be the potential ne...</td>\n",
       "      <td>ai</td>\n",
       "      <td>2</td>\n",
       "    </tr>\n",
       "  </tbody>\n",
       "</table>\n",
       "</div>"
      ],
      "text/plain": [
       "                                                  text category  label\n",
       "45   hello give me some information about large lan...       ai      2\n",
       "147   Did they give you any prompt to get you started?       ai      2\n",
       "208     Hey! Can you please explain how chatgpt works?       ai      2\n",
       "257            what kind of AI language model are you?       ai      2\n",
       "332  What’s a good chatbot that can access the Inte...       ai      2\n",
       "406  How do you think, what can be the potential ne...       ai      2"
      ]
     },
     "execution_count": 68,
     "metadata": {},
     "output_type": "execute_result"
    }
   ],
   "source": [
    "test_dataset_df[(test_dataset_df['category']=='ai') & (test_dataset_df['label']==2)]"
   ]
  },
  {
   "cell_type": "code",
   "execution_count": 71,
   "metadata": {},
   "outputs": [
    {
     "data": {
      "text/plain": [
       "'How do you think, what can be the potential negative consequences of the rapid increase of GPT utilization?'"
      ]
     },
     "execution_count": 71,
     "metadata": {},
     "output_type": "execute_result"
    }
   ],
   "source": [
    "test_dataset_df.iloc[406].text"
   ]
  },
  {
   "cell_type": "code",
   "execution_count": 56,
   "metadata": {},
   "outputs": [
    {
     "data": {
      "text/html": [
       "<div>\n",
       "<style scoped>\n",
       "    .dataframe tbody tr th:only-of-type {\n",
       "        vertical-align: middle;\n",
       "    }\n",
       "\n",
       "    .dataframe tbody tr th {\n",
       "        vertical-align: top;\n",
       "    }\n",
       "\n",
       "    .dataframe thead th {\n",
       "        text-align: right;\n",
       "    }\n",
       "</style>\n",
       "<table border=\"1\" class=\"dataframe\">\n",
       "  <thead>\n",
       "    <tr style=\"text-align: right;\">\n",
       "      <th></th>\n",
       "      <th>text</th>\n",
       "      <th>category</th>\n",
       "      <th>label</th>\n",
       "    </tr>\n",
       "  </thead>\n",
       "  <tbody>\n",
       "    <tr>\n",
       "      <th>161</th>\n",
       "      <td>Give me an introduction over 200 words for che...</td>\n",
       "      <td>language</td>\n",
       "      <td>0</td>\n",
       "    </tr>\n",
       "    <tr>\n",
       "      <th>162</th>\n",
       "      <td>Give me an introduction over 200 words for che...</td>\n",
       "      <td>business</td>\n",
       "      <td>2</td>\n",
       "    </tr>\n",
       "  </tbody>\n",
       "</table>\n",
       "</div>"
      ],
      "text/plain": [
       "                                                  text  category  label\n",
       "161  Give me an introduction over 200 words for che...  language      0\n",
       "162  Give me an introduction over 200 words for che...  business      2"
      ]
     },
     "execution_count": 56,
     "metadata": {},
     "output_type": "execute_result"
    }
   ],
   "source": [
    "text = \"Give me an introduction over 200 words for\"\n",
    "test_dataset_df[test_dataset_df['text'].str.contains(text)]"
   ]
  },
  {
   "cell_type": "code",
   "execution_count": 57,
   "metadata": {},
   "outputs": [],
   "source": [
    "text = \"Give me an introduction over 200 words for\"\n",
    "test_dataset_df = test_dataset_df.drop(test_dataset_df[(test_dataset_df['text'].str.contains(text)) \n",
    "                                                       & (test_dataset_df['label'] == 2)].index)"
   ]
  },
  {
   "cell_type": "code",
   "execution_count": 46,
   "metadata": {},
   "outputs": [
    {
     "data": {
      "text/html": [
       "<div>\n",
       "<style scoped>\n",
       "    .dataframe tbody tr th:only-of-type {\n",
       "        vertical-align: middle;\n",
       "    }\n",
       "\n",
       "    .dataframe tbody tr th {\n",
       "        vertical-align: top;\n",
       "    }\n",
       "\n",
       "    .dataframe thead th {\n",
       "        text-align: right;\n",
       "    }\n",
       "</style>\n",
       "<table border=\"1\" class=\"dataframe\">\n",
       "  <thead>\n",
       "    <tr style=\"text-align: right;\">\n",
       "      <th></th>\n",
       "      <th>text</th>\n",
       "      <th>category</th>\n",
       "      <th>label</th>\n",
       "    </tr>\n",
       "  </thead>\n",
       "  <tbody>\n",
       "    <tr>\n",
       "      <th>29</th>\n",
       "      <td>please, only fix critical grammar issues in th...</td>\n",
       "      <td>writing</td>\n",
       "      <td>2</td>\n",
       "    </tr>\n",
       "  </tbody>\n",
       "</table>\n",
       "</div>"
      ],
      "text/plain": [
       "                                                 text category  label\n",
       "29  please, only fix critical grammar issues in th...  writing      2"
      ]
     },
     "execution_count": 46,
     "metadata": {},
     "output_type": "execute_result"
    }
   ],
   "source": [
    "text =\"please, only fix critical grammar issues in the text\"\n",
    "test_dataset_df[test_dataset_df['text'].str.contains(text)]"
   ]
  },
  {
   "cell_type": "code",
   "execution_count": 36,
   "metadata": {},
   "outputs": [],
   "source": [
    "text =\"please, only fix critical grammar issues in the text\"\n",
    "test_dataset_df.loc[(test_dataset_df['text'].str.contains(text)) \n",
    "                    & (test_dataset_df['label'] == 2), 'category'] = 'writing'"
   ]
  },
  {
   "cell_type": "code",
   "execution_count": 47,
   "metadata": {},
   "outputs": [
    {
     "data": {
      "text/html": [
       "<div>\n",
       "<style scoped>\n",
       "    .dataframe tbody tr th:only-of-type {\n",
       "        vertical-align: middle;\n",
       "    }\n",
       "\n",
       "    .dataframe tbody tr th {\n",
       "        vertical-align: top;\n",
       "    }\n",
       "\n",
       "    .dataframe thead th {\n",
       "        text-align: right;\n",
       "    }\n",
       "</style>\n",
       "<table border=\"1\" class=\"dataframe\">\n",
       "  <thead>\n",
       "    <tr style=\"text-align: right;\">\n",
       "      <th></th>\n",
       "      <th>text</th>\n",
       "      <th>category</th>\n",
       "      <th>label</th>\n",
       "    </tr>\n",
       "  </thead>\n",
       "  <tbody>\n",
       "    <tr>\n",
       "      <th>44</th>\n",
       "      <td>hello give me some information about large lan...</td>\n",
       "      <td>language</td>\n",
       "      <td>0</td>\n",
       "    </tr>\n",
       "    <tr>\n",
       "      <th>45</th>\n",
       "      <td>hello give me some information about large lan...</td>\n",
       "      <td>technology</td>\n",
       "      <td>2</td>\n",
       "    </tr>\n",
       "  </tbody>\n",
       "</table>\n",
       "</div>"
      ],
      "text/plain": [
       "                                                 text    category  label\n",
       "44  hello give me some information about large lan...    language      0\n",
       "45  hello give me some information about large lan...  technology      2"
      ]
     },
     "execution_count": 47,
     "metadata": {},
     "output_type": "execute_result"
    }
   ],
   "source": [
    "text = \"give me some information about large language models\"\n",
    "test_dataset_df[test_dataset_df['text'].str.contains(text)]"
   ]
  },
  {
   "cell_type": "code",
   "execution_count": 48,
   "metadata": {},
   "outputs": [],
   "source": [
    "text = \"give me some information about large language models\"\n",
    "test_dataset_df.loc[(test_dataset_df['text'].str.contains(text)) \n",
    "                    & (test_dataset_df['label'] == 2), 'category'] = 'ai'"
   ]
  },
  {
   "cell_type": "code",
   "execution_count": 4,
   "metadata": {},
   "outputs": [],
   "source": [
    "text = \"following pieces of context to answer the question at the end\"\n",
    "test_dataset_df = test_dataset_df.drop(test_dataset_df[(test_dataset_df['text'].str.contains(text)) \n",
    "                                                       & (test_dataset_df['label'] == 2)].index)\n",
    "\n",
    "test = \"because the author also created stories about thinkers from other eras\"\n",
    "test_dataset_df = test_dataset_df.drop(test_dataset_df[(test_dataset_df['text'].str.contains(text)) \n",
    "                                                       & (test_dataset_df['label'] == 2)].index)\n",
    "\n",
    "text = \"create an Email alert in snowflake when ever\"\n",
    "test_dataset_df = test_dataset_df.drop(test_dataset_df[(test_dataset_df['text'].str.contains(text)) \n",
    "                                                       & (test_dataset_df['label'] == 2)].index)\n",
    "\n",
    "text = \"assist me in composing system architecture\"\n",
    "test_dataset_df = test_dataset_df.drop(test_dataset_df[(test_dataset_df['text'].str.contains(text)) \n",
    "                                                       & (test_dataset_df['label'] == 2)].index)\n",
    "\n",
    "text = \"tell a joke about\"\n",
    "test_dataset_df = test_dataset_df.drop(test_dataset_df[(test_dataset_df['text'].str.contains(text)) \n",
    "                                                       & (test_dataset_df['label'] == 2)].index)\n",
    "\n",
    "text = \"threatening DMCA takedown notice\"\n",
    "test_dataset_df = test_dataset_df.drop(test_dataset_df[(test_dataset_df['text'].str.contains(text)) \n",
    "                                                       & (test_dataset_df['label'] == 2)].index)"
   ]
  },
  {
   "cell_type": "code",
   "execution_count": 6,
   "metadata": {},
   "outputs": [],
   "source": [
    "text = \"sumarize the the answer in a couple\"\n",
    "test_dataset_df.loc[(test_dataset_df['text'].str.contains(text)) \n",
    "                    & (test_dataset_df['label'] == 2), 'category'] = 'writing'\n",
    "\n",
    "text = \"correct the spelling for the following text\"\n",
    "test_dataset_df.loc[(test_dataset_df['text'].str.contains(text)) \n",
    "                    & (test_dataset_df['label'] == 2), 'category'] = 'writing'\n",
    "\n",
    "text = \"Write below sentence in an alternative way\"\n",
    "test_dataset_df.loc[(test_dataset_df['text'].str.contains(text)) \n",
    "                    & (test_dataset_df['label'] == 2), 'category'] = 'writing'\n",
    "\n",
    "text = \"work is a system of inputs that generates wealth for both the business and\"\n",
    "test_dataset_df = test_dataset_df.drop(test_dataset_df[(test_dataset_df['text'].str.contains(text)) \n",
    "                                                       & (test_dataset_df['label'] == 2)].index)\n",
    "\n",
    "text = \"but make the responses more succinct and try skipping\"\n",
    "test_dataset_df = test_dataset_df.drop(test_dataset_df[(test_dataset_df['text'].str.contains(text)) \n",
    "                                                       & (test_dataset_df['label'] == 2)].index)\n",
    "\n",
    "\n",
    "text = \"discuss your idea to avoid wasting time\"\n",
    "test_dataset_df = test_dataset_df.drop(test_dataset_df[(test_dataset_df['text'].str.contains(text)) \n",
    "                                                       & (test_dataset_df['label'] == 2)].index)\n",
    "\n",
    "\n",
    "text = \"This comment was written with ChatGPT assistance\"\n",
    "test_dataset_df = test_dataset_df.drop(test_dataset_df[(test_dataset_df['text'].str.contains(text)) \n",
    "                                                       & (test_dataset_df['label'] == 2)].index)"
   ]
  },
  {
   "cell_type": "code",
   "execution_count": 58,
   "metadata": {},
   "outputs": [
    {
     "name": "stdout",
     "output_type": "stream",
     "text": [
      "Dataset({\n",
      "    features: ['text', 'category', 'label'],\n",
      "    num_rows: 409\n",
      "})\n"
     ]
    }
   ],
   "source": [
    "from datasets import Dataset, ClassLabel\n",
    "test_dataset_new = Dataset.from_pandas(test_dataset_df, preserve_index=False)\n",
    "print(test_dataset_new)"
   ]
  },
  {
   "cell_type": "code",
   "execution_count": 59,
   "metadata": {},
   "outputs": [
    {
     "data": {
      "application/vnd.jupyter.widget-view+json": {
       "model_id": "3cfa281f8f5348d98f58923a818fdbaf",
       "version_major": 2,
       "version_minor": 0
      },
      "text/plain": [
       "Map:   0%|          | 0/409 [00:00<?, ? examples/s]"
      ]
     },
     "metadata": {},
     "output_type": "display_data"
    },
    {
     "data": {
      "application/vnd.jupyter.widget-view+json": {
       "model_id": "c8fdafa9bce74b628d9dec8ae8191148",
       "version_major": 2,
       "version_minor": 0
      },
      "text/plain": [
       "Casting the dataset:   0%|          | 0/409 [00:00<?, ? examples/s]"
      ]
     },
     "metadata": {},
     "output_type": "display_data"
    }
   ],
   "source": [
    "label_map = {0: \"contradiction\",1: \"neutral\",2: \"entailment\"}\n",
    "class_label = ClassLabel(names=[label_map[i] for i in sorted(label_map.keys())])\n",
    "# Map the 'label' feature to the new ClassLabel feature\n",
    "def map_labels(example):\n",
    "    example['label'] = class_label.str2int(label_map[example['label']])\n",
    "    return example\n",
    "test_dataset_new = test_dataset_new.map(map_labels)\n",
    "test_dataset_new = test_dataset_new.cast_column(\"label\", class_label)"
   ]
  },
  {
   "cell_type": "code",
   "execution_count": 60,
   "metadata": {},
   "outputs": [
    {
     "data": {
      "application/vnd.jupyter.widget-view+json": {
       "model_id": "433fcb2353a54e29813715f97b419265",
       "version_major": 2,
       "version_minor": 0
      },
      "text/plain": [
       "Uploading the dataset shards:   0%|          | 0/1 [00:00<?, ?it/s]"
      ]
     },
     "metadata": {},
     "output_type": "display_data"
    },
    {
     "data": {
      "application/vnd.jupyter.widget-view+json": {
       "model_id": "6e874f50c47849aea62aed912b52d87f",
       "version_major": 2,
       "version_minor": 0
      },
      "text/plain": [
       "Creating parquet from Arrow format:   0%|          | 0/1 [00:00<?, ?ba/s]"
      ]
     },
     "metadata": {},
     "output_type": "display_data"
    },
    {
     "data": {
      "application/vnd.jupyter.widget-view+json": {
       "model_id": "45b504ea3b7141869c171b69366e91bf",
       "version_major": 2,
       "version_minor": 0
      },
      "text/plain": [
       "README.md:   0%|          | 0.00/1.30k [00:00<?, ?B/s]"
      ]
     },
     "metadata": {},
     "output_type": "display_data"
    },
    {
     "data": {
      "text/plain": [
       "CommitInfo(commit_url='https://huggingface.co/datasets/reddgr/nli-chatbot-prompt-categorization/commit/c2f45b58e54fac025a5acef39697f14cbc93fb5b', commit_message='Upload dataset', commit_description='', oid='c2f45b58e54fac025a5acef39697f14cbc93fb5b', pr_url=None, pr_revision=None, pr_num=None)"
      ]
     },
     "execution_count": 60,
     "metadata": {},
     "output_type": "execute_result"
    }
   ],
   "source": [
    "test_dataset_new.push_to_hub(\"reddgr/nli-chatbot-prompt-categorization\", token=hf_token_write, split='test')"
   ]
  },
  {
   "cell_type": "code",
   "execution_count": 61,
   "metadata": {},
   "outputs": [
    {
     "data": {
      "application/vnd.jupyter.widget-view+json": {
       "model_id": "26844b82595b4e018aeadedee0ebc2ed",
       "version_major": 2,
       "version_minor": 0
      },
      "text/plain": [
       "Downloading readme:   0%|          | 0.00/1.30k [00:00<?, ?B/s]"
      ]
     },
     "metadata": {},
     "output_type": "display_data"
    },
    {
     "data": {
      "application/vnd.jupyter.widget-view+json": {
       "model_id": "eff9e94c06e44c698bf19c4f5c9720d6",
       "version_major": 2,
       "version_minor": 0
      },
      "text/plain": [
       "Downloading data:   0%|          | 0.00/105k [00:00<?, ?B/s]"
      ]
     },
     "metadata": {},
     "output_type": "display_data"
    },
    {
     "data": {
      "application/vnd.jupyter.widget-view+json": {
       "model_id": "d69fe67ffa5e4d64aa36a0758e10ee49",
       "version_major": 2,
       "version_minor": 0
      },
      "text/plain": [
       "Downloading data:   0%|          | 0.00/22.4k [00:00<?, ?B/s]"
      ]
     },
     "metadata": {},
     "output_type": "display_data"
    },
    {
     "data": {
      "application/vnd.jupyter.widget-view+json": {
       "model_id": "a53b7279adda4914854678e7c0095a3e",
       "version_major": 2,
       "version_minor": 0
      },
      "text/plain": [
       "Generating train split:   0%|          | 0/2164 [00:00<?, ? examples/s]"
      ]
     },
     "metadata": {},
     "output_type": "display_data"
    },
    {
     "data": {
      "application/vnd.jupyter.widget-view+json": {
       "model_id": "09b6fff6301d40ac9094027c82da0c09",
       "version_major": 2,
       "version_minor": 0
      },
      "text/plain": [
       "Generating test split:   0%|          | 0/409 [00:00<?, ? examples/s]"
      ]
     },
     "metadata": {},
     "output_type": "display_data"
    },
    {
     "name": "stdout",
     "output_type": "stream",
     "text": [
      "records in Train split: 2164\n",
      "...\n"
     ]
    },
    {
     "data": {
      "text/html": [
       "<div>\n",
       "<style scoped>\n",
       "    .dataframe tbody tr th:only-of-type {\n",
       "        vertical-align: middle;\n",
       "    }\n",
       "\n",
       "    .dataframe tbody tr th {\n",
       "        vertical-align: top;\n",
       "    }\n",
       "\n",
       "    .dataframe thead th {\n",
       "        text-align: right;\n",
       "    }\n",
       "</style>\n",
       "<table border=\"1\" class=\"dataframe\">\n",
       "  <thead>\n",
       "    <tr style=\"text-align: right;\">\n",
       "      <th></th>\n",
       "      <th>text</th>\n",
       "      <th>category</th>\n",
       "      <th>label</th>\n",
       "    </tr>\n",
       "  </thead>\n",
       "  <tbody>\n",
       "    <tr>\n",
       "      <th>2161</th>\n",
       "      <td>I have three apples. If you take away two from...</td>\n",
       "      <td>coding</td>\n",
       "      <td>0</td>\n",
       "    </tr>\n",
       "    <tr>\n",
       "      <th>2162</th>\n",
       "      <td>I have three apples. If you take away two from...</td>\n",
       "      <td>technology</td>\n",
       "      <td>0</td>\n",
       "    </tr>\n",
       "    <tr>\n",
       "      <th>2163</th>\n",
       "      <td>I have three apples. If you take away two from...</td>\n",
       "      <td>finance</td>\n",
       "      <td>0</td>\n",
       "    </tr>\n",
       "  </tbody>\n",
       "</table>\n",
       "</div>"
      ],
      "text/plain": [
       "                                                   text    category  label\n",
       "2161  I have three apples. If you take away two from...      coding      0\n",
       "2162  I have three apples. If you take away two from...  technology      0\n",
       "2163  I have three apples. If you take away two from...     finance      0"
      ]
     },
     "metadata": {},
     "output_type": "display_data"
    },
    {
     "name": "stdout",
     "output_type": "stream",
     "text": [
      "records in Test split: 409\n",
      "...\n"
     ]
    },
    {
     "data": {
      "text/html": [
       "<div>\n",
       "<style scoped>\n",
       "    .dataframe tbody tr th:only-of-type {\n",
       "        vertical-align: middle;\n",
       "    }\n",
       "\n",
       "    .dataframe tbody tr th {\n",
       "        vertical-align: top;\n",
       "    }\n",
       "\n",
       "    .dataframe thead th {\n",
       "        text-align: right;\n",
       "    }\n",
       "</style>\n",
       "<table border=\"1\" class=\"dataframe\">\n",
       "  <thead>\n",
       "    <tr style=\"text-align: right;\">\n",
       "      <th></th>\n",
       "      <th>text</th>\n",
       "      <th>category</th>\n",
       "      <th>label</th>\n",
       "    </tr>\n",
       "  </thead>\n",
       "  <tbody>\n",
       "    <tr>\n",
       "      <th>406</th>\n",
       "      <td>How do you think, what can be the potential ne...</td>\n",
       "      <td>ai</td>\n",
       "      <td>2</td>\n",
       "    </tr>\n",
       "    <tr>\n",
       "      <th>407</th>\n",
       "      <td>When I was 6 my sister was half my age. Now I’...</td>\n",
       "      <td>ai</td>\n",
       "      <td>0</td>\n",
       "    </tr>\n",
       "    <tr>\n",
       "      <th>408</th>\n",
       "      <td>When I was 6 my sister was half my age. Now I’...</td>\n",
       "      <td>riddle</td>\n",
       "      <td>2</td>\n",
       "    </tr>\n",
       "  </tbody>\n",
       "</table>\n",
       "</div>"
      ],
      "text/plain": [
       "                                                  text category  label\n",
       "406  How do you think, what can be the potential ne...       ai      2\n",
       "407  When I was 6 my sister was half my age. Now I’...       ai      0\n",
       "408  When I was 6 my sister was half my age. Now I’...   riddle      2"
      ]
     },
     "metadata": {},
     "output_type": "display_data"
    }
   ],
   "source": [
    "nli_dataset = load_dataset('reddgr/nli-chatbot-prompt-categorization')\n",
    "print(f\"records in Train split: {len(nli_dataset['train'])}\\n...\")\n",
    "display(nli_dataset['train'].to_pandas().tail(3))\n",
    "print(f\"records in Test split: {len(nli_dataset['test'])}\\n...\")\n",
    "display(nli_dataset['test'].to_pandas().tail(3))"
   ]
  }
 ],
 "metadata": {
  "kernelspec": {
   "display_name": "base",
   "language": "python",
   "name": "python3"
  },
  "language_info": {
   "codemirror_mode": {
    "name": "ipython",
    "version": 3
   },
   "file_extension": ".py",
   "mimetype": "text/x-python",
   "name": "python",
   "nbconvert_exporter": "python",
   "pygments_lexer": "ipython3",
   "version": "3.11.5"
  }
 },
 "nbformat": 4,
 "nbformat_minor": 2
}
